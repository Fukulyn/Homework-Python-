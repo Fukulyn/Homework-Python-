{
 "cells": [
  {
   "cell_type": "code",
   "execution_count": 19,
   "id": "3feec3a3",
   "metadata": {
    "scrolled": false
   },
   "outputs": [
    {
     "name": "stdout",
     "output_type": "stream",
     "text": [
      "Radius \t Volume\n",
      "10 \t 4188.8 ml\n",
      "11 \t 5575.3 ml\n",
      "12 \t 7238.2 ml\n",
      "13 \t 9202.8 ml\n",
      "14 \t 11494.0 ml\n",
      "15 \t 14137.2 ml\n",
      "16 \t 17157.3 ml\n",
      "17 \t 20579.5 ml\n",
      "18 \t 24429.0 ml\n",
      "19 \t 28730.9 ml\n",
      "20 \t 33510.3 ml\n"
     ]
    }
   ],
   "source": [
    "import math\n",
    "start, end, step = 10, 20, 1\n",
    "print(\"Radius\",\"\\t\",\"Volume\")\n",
    "for r in range(start, end+1, step):\n",
    "    v = 4/3*math.pi*r**3\n",
    "    print(r, \"\\t\",\"%.1f\"%v,\"ml\")"
   ]
  },
  {
   "cell_type": "code",
   "execution_count": 8,
   "id": "619f2969",
   "metadata": {
    "scrolled": true
   },
   "outputs": [
    {
     "name": "stdout",
     "output_type": "stream",
     "text": [
      "h = 4\n",
      "****\n",
      "*** \n",
      "**  \n",
      "*   \n",
      "    \n"
     ]
    }
   ],
   "source": [
    "h = int(input(\"h = \"))\n",
    "for i in range(0,h+1,1):\n",
    "    for j in range(h,i,-1):\n",
    "        print('*',sep='',end='')\n",
    "    for j in range(i):\n",
    "        print(' ',sep='',end='')\n",
    "    print()"
   ]
  },
  {
   "cell_type": "code",
   "execution_count": 31,
   "id": "922e8890",
   "metadata": {
    "scrolled": false
   },
   "outputs": [
    {
     "name": "stdout",
     "output_type": "stream",
     "text": [
      "1\n",
      "1x1=1 \t1x2=2 \t1x3=3 \t1x4=4 \t1x5=5 \t1x6=6 \t1x7=7 \t1x8=8 \t1x9=9 \t\n",
      "\n",
      "2x1=2 \t2x2=4 \t2x3=6 \t2x4=8 \t2x5=10 \t2x6=12 \t2x7=14 \t2x8=16 \t2x9=18 \t\n",
      "\n",
      "3x1=3 \t3x2=6 \t3x3=9 \t3x4=12 \t3x5=15 \t3x6=18 \t3x7=21 \t3x8=24 \t3x9=27 \t\n",
      "\n",
      "4x1=4 \t4x2=8 \t4x3=12 \t4x4=16 \t4x5=20 \t4x6=24 \t4x7=28 \t4x8=32 \t4x9=36 \t\n",
      "\n",
      "5x1=5 \t5x2=10 \t5x3=15 \t5x4=20 \t5x5=25 \t5x6=30 \t5x7=35 \t5x8=40 \t5x9=45 \t\n",
      "\n",
      "6x1=6 \t6x2=12 \t6x3=18 \t6x4=24 \t6x5=30 \t6x6=36 \t6x7=42 \t6x8=48 \t6x9=54 \t\n",
      "\n",
      "7x1=7 \t7x2=14 \t7x3=21 \t7x4=28 \t7x5=35 \t7x6=42 \t7x7=49 \t7x8=56 \t7x9=63 \t\n",
      "\n",
      "8x1=8 \t8x2=16 \t8x3=24 \t8x4=32 \t8x5=40 \t8x6=48 \t8x7=56 \t8x8=64 \t8x9=72 \t\n",
      "\n",
      "9x1=9 \t9x2=18 \t9x3=27 \t9x4=36 \t9x5=45 \t9x6=54 \t9x7=63 \t9x8=72 \t9x9=81 \t\n",
      "\n"
     ]
    }
   ],
   "source": [
    "h = int(input())\n",
    "for i in range(h,10):\n",
    "    for j in range(h,10):\n",
    "        print(i,'x',j,'=',i*j,sep='',end=' \\t')\n",
    "    print(\"\\n\")"
   ]
  },
  {
   "cell_type": "code",
   "execution_count": 18,
   "id": "4b17198b",
   "metadata": {
    "scrolled": true
   },
   "outputs": [
    {
     "name": "stdout",
     "output_type": "stream",
     "text": [
      "lb, ub= 100 200\n",
      "101 103 107 109 113 127 131 137 139 149 151 157 163 167 173 179 181 191 193 197 199 "
     ]
    }
   ],
   "source": [
    "lb, ub = map(int,(input(\"lb, ub= \").split()))\n",
    "for num in range(lb,ub+1):\n",
    "    for i in range(2,num):\n",
    "        if(num%i)==0:\n",
    "            break\n",
    "    else:\n",
    "         print(num,sep='',end=' ')"
   ]
  }
 ],
 "metadata": {
  "kernelspec": {
   "display_name": "Python 3 (ipykernel)",
   "language": "python",
   "name": "python3"
  },
  "language_info": {
   "codemirror_mode": {
    "name": "ipython",
    "version": 3
   },
   "file_extension": ".py",
   "mimetype": "text/x-python",
   "name": "python",
   "nbconvert_exporter": "python",
   "pygments_lexer": "ipython3",
   "version": "3.9.13"
  }
 },
 "nbformat": 4,
 "nbformat_minor": 5
}
