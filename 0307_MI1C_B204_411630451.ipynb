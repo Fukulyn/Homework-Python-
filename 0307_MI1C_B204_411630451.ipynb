{
 "cells": [
  {
   "cell_type": "code",
   "execution_count": 6,
   "id": "c1a4eeb9",
   "metadata": {},
   "outputs": [
    {
     "name": "stdout",
     "output_type": "stream",
     "text": [
      "Input (a,b,c)=3 4 5\n",
      "area= 6.0\n"
     ]
    }
   ],
   "source": [
    "abcStr = input(\"Input (a,b,c)=\")\n",
    "s1,s2,s3 =abcStr.split()\n",
    "a,b,c = int(s1), int(s2), int(s3)\n",
    "s = (a+b+c)/2\n",
    "area = (s*(s-a)*(s-b)*(s-c))**0.5\n",
    "print(\"area=\",area)"
   ]
  },
  {
   "cell_type": "code",
   "execution_count": 5,
   "id": "f79e0b91",
   "metadata": {},
   "outputs": [
    {
     "name": "stdout",
     "output_type": "stream",
     "text": [
      "Input (a,b,c)=3 4 5\n",
      "area=6.0\n"
     ]
    }
   ],
   "source": [
    "s=sum(map(int,input(\"Input (a,b,c)=\").split()))/2\n",
    "print(f'area={(s*(s-a)*(s-b)*(s-c))**0.5}')"
   ]
  },
  {
   "cell_type": "code",
   "execution_count": 8,
   "id": "12ffbc4f",
   "metadata": {},
   "outputs": [
    {
     "name": "stdout",
     "output_type": "stream",
     "text": [
      "輸入分數:49\n",
      "調整後的分數: 70\n"
     ]
    }
   ],
   "source": [
    "import math\n",
    "score = int(input(\"輸入分數:\"))\n",
    "score = int(score**0.5*10)\n",
    "print(\"調整後的分數:\",score)"
   ]
  },
  {
   "cell_type": "code",
   "execution_count": 24,
   "id": "8f9447ad",
   "metadata": {
    "scrolled": false
   },
   "outputs": [
    {
     "name": "stdout",
     "output_type": "stream",
     "text": [
      "True\n",
      "True\n",
      "True\n"
     ]
    }
   ],
   "source": [
    "score = 57\n",
    "d1 = (score>=55)\n",
    "print(d1)\n",
    "d2 = (score<60)\n",
    "print(d2)\n",
    "print(d1 and d1)"
   ]
  },
  {
   "cell_type": "code",
   "execution_count": 34,
   "id": "016ac5b2",
   "metadata": {},
   "outputs": [
    {
     "name": "stdout",
     "output_type": "stream",
     "text": [
      "r=3.5\n",
      "3.5\n",
      "179.59438003021648\n"
     ]
    }
   ],
   "source": [
    "import math\n",
    "r = float(input(\"r=\"))\n",
    "print(r)\n",
    "v = 4/3*math.pi*r**3\n",
    "print(v)"
   ]
  },
  {
   "cell_type": "code",
   "execution_count": null,
   "id": "0eb904d8",
   "metadata": {},
   "outputs": [],
   "source": [
    "import math\n",
    "r = float(input(\"r=\"))\n",
    "if(r<0):\n",
    "    v = -1\n",
    "    print(\"r<0\")\n",
    "else:\n",
    "    v = 4/3*math.pi*r**3\n",
    "print(v)"
   ]
  },
  {
   "cell_type": "code",
   "execution_count": 43,
   "id": "fedfa933",
   "metadata": {},
   "outputs": [
    {
     "name": "stdout",
     "output_type": "stream",
     "text": [
      "200_0000\n",
      "tax= 240000.0\n"
     ]
    }
   ],
   "source": [
    "net_income = int(input())\n",
    "tax = 0.0\n",
    "if net_income<=54_0000:\n",
    "    tax = net_income*0.05\n",
    "else:\n",
    "    if(net_income<=121_0000):\n",
    "        tax = net_income*0.12\n",
    "    else:\n",
    "        if(net_income>=121_0000 and net_income<=242_0000)\n",
    "        tax = net_income*0.2\n",
    "    else:\n",
    "        pass\n",
    "print(\"tax=\",tax)"
   ]
  },
  {
   "cell_type": "code",
   "execution_count": null,
   "id": "f7dcd0fa",
   "metadata": {},
   "outputs": [],
   "source": [
    "id = int(input(\"Input student ID:\"))\n",
    "degree = id%10000\n",
    "year = id/"
   ]
  }
 ],
 "metadata": {
  "kernelspec": {
   "display_name": "Python 3 (ipykernel)",
   "language": "python",
   "name": "python3"
  },
  "language_info": {
   "codemirror_mode": {
    "name": "ipython",
    "version": 3
   },
   "file_extension": ".py",
   "mimetype": "text/x-python",
   "name": "python",
   "nbconvert_exporter": "python",
   "pygments_lexer": "ipython3",
   "version": "3.9.13"
  }
 },
 "nbformat": 4,
 "nbformat_minor": 5
}
