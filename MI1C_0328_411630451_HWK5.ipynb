{
 "cells": [
  {
   "cell_type": "code",
   "execution_count": 2,
   "id": "6b34901d",
   "metadata": {},
   "outputs": [
    {
     "name": "stdout",
     "output_type": "stream",
     "text": [
      "[1, 3, 7, 15, 31, 63, 127, 255, 511, 1023, 2047]\n",
      "avg=371.09090909090907\n"
     ]
    }
   ],
   "source": [
    "#P.40 ex.2\n",
    "Sum = 0\n",
    "a = [1]\n",
    "for i in range(1,11):\n",
    "    a.append(2 * a[i-1] + 1)\n",
    "    Sum += a[i]\n",
    "print(a)\n",
    "print(f\"avg={Sum/len(a)}\")"
   ]
  },
  {
   "cell_type": "code",
   "execution_count": 10,
   "id": "1dc08b53",
   "metadata": {},
   "outputs": [
    {
     "name": "stdout",
     "output_type": "stream",
     "text": [
      "[1, 1, 2, 3, 5, 8, 13, 21, 34, 55, 89, 144, 233, 377, 610, 987, 1597, 2584, 4181, 6765]\n"
     ]
    }
   ],
   "source": [
    "#P.40 ex.3\n",
    "a = [1,1]\n",
    "for i in range(2,20):\n",
    "    a.append(a[i-1] + a[i-2])\n",
    "print(a)"
   ]
  },
  {
   "cell_type": "code",
   "execution_count": 37,
   "id": "ef8f0495",
   "metadata": {},
   "outputs": [
    {
     "name": "stdout",
     "output_type": "stream",
     "text": [
      "[6, 2, 3, 4, 5, 1, 7, 8, 9]\n",
      "[6, 7, 3, 4, 5, 1, 2, 8, 9]\n",
      "[6, 7, 8, 4, 5, 1, 2, 3, 9]\n",
      "[6, 7, 8, 9, 5, 1, 2, 3, 4]\n"
     ]
    }
   ],
   "source": [
    "#P.40 (6.2) Ex1\n",
    "a = [1,2,3,4,5,6,7,8,9]\n",
    "\n",
    "#method 1:\n",
    "#a1 = a[len(a)//2:] + a[:len(a)//2]\n",
    "#print(a1)\n",
    "\n",
    "#method 2:\n",
    "#for i in range(int(len(a)/2)):\n",
    "    #a = a[1:] + [a[0]]\n",
    "    #print(a)\n",
    "#print(a)\n",
    "\n",
    "#method 3:\n",
    "#mid = len(a)//2\n",
    "#for i in range(mid):\n",
    "    #a[i],a[-mid+i]=a[-mid+i],a[i]\n",
    "    #print(a)\n",
    "#print(a)"
   ]
  },
  {
   "cell_type": "code",
   "execution_count": 33,
   "id": "a74f7117",
   "metadata": {},
   "outputs": [
    {
     "name": "stdout",
     "output_type": "stream",
     "text": [
      "[13, 3, 5, 7, 9, 11, 1]\n",
      "[13, 11, 5, 7, 9, 3, 1]\n",
      "[13, 11, 9, 7, 5, 3, 1]\n"
     ]
    }
   ],
   "source": [
    "#P.40 (6.2) Ex2\n",
    "a = [1,3,5,7,9,11,13]\n",
    "\n",
    "#method 1:\n",
    "#a1 = a[::-1]\n",
    "#print(a1)\n",
    "\n",
    "#method 2:\n",
    "#for i in range(len(a)//2):\n",
    "    #a[i], a[-i-1] = a[-i-1], a[i]\n",
    "    #print(a)\n",
    "#print(a)\n",
    "\n",
    "#method 3:\n",
    "#for i in range(len(a)//2):\n",
    "    #a[i], a[-(i+1)] = a[-(i+1)], a[i]\n",
    "    #print(a)\n",
    "#print(a)"
   ]
  },
  {
   "cell_type": "code",
   "execution_count": 48,
   "id": "a3cc576b",
   "metadata": {},
   "outputs": [
    {
     "name": "stdout",
     "output_type": "stream",
     "text": [
      "[11, 3, 5, 7, 9, 1]\n",
      "[11, 1, 5, 7, 9, 3]\n",
      "[11, 1, 3, 7, 9, 5]\n",
      "[11, 1, 3, 5, 9, 7]\n",
      "[11, 1, 3, 5, 7, 9]\n",
      "[11, 1, 3, 5, 7, 9]\n",
      "[11, 1, 3, 5, 7, 9]\n",
      "\n"
     ]
    }
   ],
   "source": [
    "#P.40 (6.2) Ex3\n",
    "a = [1,3,5,7,9,11]\n",
    "\n",
    "#method 1:\n",
    "#a1 = [a[-1]] + a[:-1]\n",
    "#print(a1)\n",
    "\n",
    "#method 2:\n",
    "#for i in range(len(a) - 1, 0, -1):\n",
    "    #a[i], a[i-1] = a[i-1], a[i]\n",
    "    #print(a)\n",
    "#print(f'{a}\\n')\n",
    "\n",
    "#method 3:\n",
    "for i in range(len(a)):\n",
    "    a[i],a[-1]=a[-1],a[i]\n",
    "    print(a)\n",
    "print(f'{a}\\n')"
   ]
  },
  {
   "cell_type": "code",
   "execution_count": 16,
   "id": "19fe3e73",
   "metadata": {
    "scrolled": true
   },
   "outputs": [
    {
     "name": "stdout",
     "output_type": "stream",
     "text": [
      "diffIndex = [7, 11, 14]\n",
      "diffCnt = 3\n"
     ]
    }
   ],
   "source": [
    "#P.41 Ex1\n",
    "a = [1,2,3,4,5,6,7,8,9,10,11,12,13,14,15,16]\n",
    "b = [1,2,3,4,5,6,7,18,9,10,11,22,13,14,151,16]\n",
    "diffIndex = []\n",
    "cnt = 0\n",
    "\n",
    "for i in range(len(a)):\n",
    "    if a[i] != b[i]:\n",
    "        diffIndex.append(i)\n",
    "        cnt += 1\n",
    "        \n",
    "print(f\"diffIndex = {diffIndex}\")\n",
    "print(f\"diffCnt = {cnt}\")"
   ]
  },
  {
   "cell_type": "code",
   "execution_count": 15,
   "id": "3868c4cb",
   "metadata": {},
   "outputs": [
    {
     "name": "stdout",
     "output_type": "stream",
     "text": [
      "input a score:88\n",
      "[0] 88\n",
      "[4] 88\n",
      "[8] 88\n"
     ]
    }
   ],
   "source": [
    "#P.41 Ex2\n",
    "score = [88, 45, 63, 74, 88, 36, 57, 45, 88, 100, 95]\n",
    "query = int(input('input a score:'))\n",
    "\n",
    "while query in score:\n",
    "    i = score.index(query)\n",
    "    print(f'[{i}] {query}')\n",
    "    score[i] = None"
   ]
  },
  {
   "cell_type": "code",
   "execution_count": null,
   "id": "09da9105",
   "metadata": {},
   "outputs": [],
   "source": []
  }
 ],
 "metadata": {
  "kernelspec": {
   "display_name": "Python 3 (ipykernel)",
   "language": "python",
   "name": "python3"
  },
  "language_info": {
   "codemirror_mode": {
    "name": "ipython",
    "version": 3
   },
   "file_extension": ".py",
   "mimetype": "text/x-python",
   "name": "python",
   "nbconvert_exporter": "python",
   "pygments_lexer": "ipython3",
   "version": "3.9.13"
  }
 },
 "nbformat": 4,
 "nbformat_minor": 5
}
