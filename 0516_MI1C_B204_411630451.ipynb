{
 "cells": [
  {
   "cell_type": "code",
   "execution_count": 1,
   "metadata": {},
   "outputs": [
    {
     "name": "stdout",
     "output_type": "stream",
     "text": [
      "x= [1, 2, 3, 4, 5, 6, 7, 8, 9, 10]\n",
      "y= [0, 1, 4, 9, 16, 25, 36, 49, 64, 81]\n"
     ]
    },
    {
     "data": {
      "image/png": "[encoded data removed]",
      "text/plain": [
       "<Figure size 500x200 with 1 Axes>"
      ]
     },
     "metadata": {},
     "output_type": "display_data"
    }
   ],
   "source": [
    "import matplotlib.pyplot as plt\n",
    "# 已知 y = f(x) = x**2-2*x+1，繪製x在[1,10]區間所對應y值\n",
    "def f1(x): return x**2-2*x+1\n",
    "\n",
    "\n",
    "\n",
    "x=[i for i in range(1,11)] # 1 2 3 10\n",
    "y=[f1(n) for n in x]# \n",
    "print(\"x=\", x)\n",
    "print(\"y=\", y)\n",
    "\n",
    "\n",
    "\n",
    "plt.figure(figsize=(5,2))\n",
    "plt.plot(x, y, '-') # 可將 '-' 改為 'r-', ro' 'r--', 'r^'，試試看\n",
    "# plt.axis([1, 10, 0, 100]) # 可設定x,y軸的刻度範圍如[1,10] 與 [0,100]\n",
    "plt.xlabel('x-axis')\n",
    "plt.ylabel('y-axis')\n",
    "plt.show()"
   ]
  },
  {
   "cell_type": "code",
   "execution_count": 2,
   "metadata": {},
   "outputs": [
    {
     "name": "stdout",
     "output_type": "stream",
     "text": [
      "A\n",
      "None\n"
     ]
    }
   ],
   "source": [
    "def printGrade(score):\n",
    "    if score>=90:\n",
    "        print('A')\n",
    "    elif score>=75:\n",
    "        print('B')\n",
    "    elif score>=60:\n",
    "        print('C')\n",
    "    else:\n",
    "        print('F')\n",
    "    return # 此行可省略\n",
    "\n",
    "score=int(input(\"Input score (0-100):\"))\n",
    "x = printGrade(score)\n",
    "print(x)"
   ]
  },
  {
   "cell_type": "code",
   "execution_count": 1,
   "metadata": {},
   "outputs": [
    {
     "name": "stdout",
     "output_type": "stream",
     "text": [
      "*****************************\n",
      "******** 四則運算系統 ********\n",
      "*****************************\n",
      "Correct, good job!\n",
      "Correct, good job!\n",
      "Try next time, bye....\n"
     ]
    }
   ],
   "source": [
    "\n",
    "import random ;\n",
    "def printLogo():\n",
    "    print(\"*****************************\")\n",
    "    print(\"******** 四則運算系統 ********\")\n",
    "    print(\"*****************************\")\n",
    "\n",
    "def QALoop():\n",
    "\n",
    "    while (True):\n",
    "        x = random.randint(0,10)\n",
    "        y = random.randint(0,10)\n",
    "        s = input(str(x)+\"+\"+str(y)+\"=? \")\n",
    "        if (int(s) == x+y):\n",
    "            print(\"Correct, good job!\")\n",
    "        else:\n",
    "            print(\"Try next time, bye....\")\n",
    "            break\n",
    "\n",
    "if (__name__ == \"__main__\"):\n",
    "    printLogo()\n",
    "    QALoop()\n",
    "\n"
   ]
  },
  {
   "cell_type": "code",
   "execution_count": 15,
   "metadata": {},
   "outputs": [
    {
     "name": "stdout",
     "output_type": "stream",
     "text": [
      "******************************\n",
      "******************************\n",
      "******************************\n",
      "******************************\n",
      "******************************\n"
     ]
    }
   ],
   "source": [
    "def printline(sys:str, no:int, row:int)->None:\n",
    "    for i in range(row):\n",
    "        for j in range(no):\n",
    "            print(sys,end='')\n",
    "        print()\n",
    "printline('*', 30 ,5)"
   ]
  },
  {
   "cell_type": "code",
   "execution_count": 18,
   "metadata": {},
   "outputs": [
    {
     "name": "stdout",
     "output_type": "stream",
     "text": [
      "5.0 / 3.0\n"
     ]
    }
   ],
   "source": [
    "import math\n",
    "def ruduce(u,d):\n",
    "    pass\n",
    "def printFrac(u,d):\n",
    "    pass\n",
    "def main():\n",
    "    up, down = 60,36\n",
    "    g = math.gcd(up,down)\n",
    "    print(up/g, '/', down/g)\n",
    "main()"
   ]
  },
  {
   "cell_type": "code",
   "execution_count": 24,
   "metadata": {},
   "outputs": [
    {
     "name": "stdout",
     "output_type": "stream",
     "text": [
      "5 3 8\n"
     ]
    }
   ],
   "source": [
    "def main():#Local variable declared in main()->a,b,c\n",
    "    a,b=5,3\n",
    "    c = add(a,b)\n",
    "    print(a,b,c)\n",
    "\n",
    "def add(x,y):#Local variable  -> x,y,z\n",
    "    z=x+y\n",
    "    return z\n",
    "main()"
   ]
  },
  {
   "cell_type": "code",
   "execution_count": 26,
   "metadata": {},
   "outputs": [
    {
     "name": "stdout",
     "output_type": "stream",
     "text": [
      "4 3\n"
     ]
    }
   ],
   "source": [
    "def reset():\n",
    "    a,b=4,3\n",
    "    a=b=0\n",
    "\n",
    "a,b=4,3\n",
    "reset()\n",
    "print(a,b)"
   ]
  },
  {
   "cell_type": "code",
   "execution_count": 27,
   "metadata": {},
   "outputs": [
    {
     "name": "stdout",
     "output_type": "stream",
     "text": [
      "65.97397095721645\n"
     ]
    }
   ],
   "source": [
    "import random\n",
    "choice = int(input(\"input your choice(1 or 2):\"))\n",
    "if (choice == 1):\n",
    "    x = random.random()*100+20 \n",
    "print(x)"
   ]
  },
  {
   "cell_type": "code",
   "execution_count": 28,
   "metadata": {},
   "outputs": [
    {
     "name": "stdout",
     "output_type": "stream",
     "text": [
      "65.97397095721645\n",
      "38.4846 51.72330239999999\n"
     ]
    }
   ],
   "source": [
    "\n",
    "import random\n",
    "choice = int(input(\"input your choice(1 or 2):\"))\n",
    "\n",
    "if (choice == 1):\n",
    "    x = random.random()*100+20 ;\n",
    "print(x)\n",
    "\n",
    "PI = 3.1416 #不想使用math.pi \n",
    "def circle_area(r): return PI*r*r;\n",
    "def sphere_volume(r): return 3/4*PI*r*r*r\n",
    "print(circle_area(3.5), sphere_volume(2.8))\n",
    "\n",
    "\n",
    "\n"
   ]
  },
  {
   "cell_type": "code",
   "execution_count": 30,
   "metadata": {},
   "outputs": [
    {
     "name": "stdout",
     "output_type": "stream",
     "text": [
      "20.79441541679836\n"
     ]
    }
   ],
   "source": [
    "import math\n",
    "\n",
    "def changeBaseVal(x):\n",
    "    global baseVal\n",
    "    baseVal = 10*math.log(x) # changeBaseVal@baseVal\n",
    "baseVal = 5 # module global vairables, global@baseVal\n",
    "changeBaseVal(8)    \n",
    "print(baseVal) # global@baseVal"
   ]
  },
  {
   "cell_type": "code",
   "execution_count": 32,
   "metadata": {},
   "outputs": [
    {
     "name": "stdout",
     "output_type": "stream",
     "text": [
      "240\n"
     ]
    }
   ],
   "source": [
    "#注意全域變數的使用\n",
    "def fac(n):\n",
    "    global temp\n",
    "    temp = 1\n",
    "    for i in range(2,n+1): temp *= i\n",
    "    return temp\n",
    "\n",
    "# 計算 n! + temp\n",
    "n=5\n",
    "temp = int(input(\"input another integer:\"))\n",
    "print(fac(n)+temp)\n",
    "#5!= 120 = fac(n) = temp ->fac(n)+temp=240"
   ]
  },
  {
   "cell_type": "code",
   "execution_count": 34,
   "metadata": {},
   "outputs": [
    {
     "name": "stdout",
     "output_type": "stream",
     "text": [
      "Hello\n"
     ]
    }
   ],
   "source": [
    "s='Hello'\n",
    "def printMsg(msg=s):\n",
    "    print(msg)\n",
    "s = 'World'\n",
    "printMsg()"
   ]
  },
  {
   "cell_type": "code",
   "execution_count": 4,
   "metadata": {},
   "outputs": [
    {
     "name": "stdout",
     "output_type": "stream",
     "text": [
      "2\n"
     ]
    }
   ],
   "source": [
    "def inc(n):\n",
    "    n=n+1\n",
    "    return n\n",
    "x = 1\n",
    "x = inc(x)\n",
    "print(x)"
   ]
  },
  {
   "cell_type": "code",
   "execution_count": 8,
   "metadata": {},
   "outputs": [
    {
     "name": "stdout",
     "output_type": "stream",
     "text": [
      "3 5\n"
     ]
    }
   ],
   "source": [
    "def swap(a,b):\n",
    "    return b, a\n",
    "\n",
    "a,b = 5,3\n",
    "a,b = swap(a,b)\n",
    "print(a,b)"
   ]
  },
  {
   "cell_type": "code",
   "execution_count": 14,
   "metadata": {},
   "outputs": [
    {
     "name": "stdout",
     "output_type": "stream",
     "text": [
      "[0.4090909090909091, 0.4727272727272727, 0.12727272727272726, 0.6545454545454545, 0.0, 1.0, 0.7181818181818181, 0.6454545454545455]\n"
     ]
    }
   ],
   "source": [
    "def normalize(L, lb=0, ub=1, delta=1):#Default Argument Values\n",
    "    minV,maxV = min(L), max(L)\n",
    "    orgRange, targetRange=maxV-minV, ub-lb\n",
    "    if maxV-minV==0: orgRange=delta\n",
    "    for i in range(len(L)):\n",
    "        L[i] = lb+((L[i]-minV)/orgRange)*targetRange\n",
    "\n",
    "\n",
    "data=[18, 25, -13, 45, -27, 83, 52, 44]\n",
    "normalize(data)# 等同normalize(data,0,1,1)\n",
    "print(data)"
   ]
  },
  {
   "cell_type": "code",
   "execution_count": 13,
   "metadata": {},
   "outputs": [
    {
     "name": "stdout",
     "output_type": "stream",
     "text": [
      "[-0.5454545454545454, -0.16363636363636358, -2.2363636363636363, 0.9272727272727272, -3.0, 3.0, 1.3090909090909086, 0.872727272727273]\n"
     ]
    }
   ],
   "source": [
    "#-----------------------------------------\n",
    "data2=[18, 25, -13, 45, -27, 83, 52, 44]\n",
    "normalize(data2, -3, 3)\n",
    "#normalize(data2, lb=-2, ub=2)\n",
    "#normalize(ub=2, lb=2, L=data2)\n",
    "print(data2)"
   ]
  },
  {
   "cell_type": "code",
   "execution_count": 22,
   "metadata": {},
   "outputs": [
    {
     "name": "stdout",
     "output_type": "stream",
     "text": [
      "60 150\n"
     ]
    }
   ],
   "source": [
    "def calAll(*args,opr='+'):# calAll:'+' ,'*'\n",
    "    if opr=='+':\n",
    "        return sum(args)\n",
    "    else:\n",
    "        rlt = 1\n",
    "        for x in args: rlt *= x\n",
    "        return rlt\n",
    "    \n",
    "x1=calAll(10,20,30)\n",
    "x2=calAll(10,20,30,40,50)\n",
    "print(x1,x2)"
   ]
  }
 ],
 "metadata": {
  "kernelspec": {
   "display_name": "base",
   "language": "python",
   "name": "python3"
  },
  "language_info": {
   "codemirror_mode": {
    "name": "ipython",
    "version": 3
   },
   "file_extension": ".py",
   "mimetype": "text/x-python",
   "name": "python",
   "nbconvert_exporter": "python",
   "pygments_lexer": "ipython3",
   "version": "3.9.13"
  },
  "orig_nbformat": 4
 },
 "nbformat": 4,
 "nbformat_minor": 2
}
