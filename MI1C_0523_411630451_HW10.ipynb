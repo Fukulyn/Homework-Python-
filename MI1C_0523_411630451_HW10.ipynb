{
 "cells": [
  {
   "cell_type": "code",
   "execution_count": 5,
   "id": "1262614c",
   "metadata": {},
   "outputs": [
    {
     "name": "stdout",
     "output_type": "stream",
     "text": [
      "[11, 37, 53, 59]\n",
      "[101, 127]\n"
     ]
    }
   ],
   "source": [
    "'''1. 撰寫一函數isPrime()，可以接收不定數量的整數，並將其中的質數存於一串列傳回。'''\n",
    "\n",
    "def isPrime(*args):\n",
    "    pList=[]\n",
    "    for n in args:\n",
    "        prime=True\n",
    "        for i in range(2,n):\n",
    "            if n%i==0:\n",
    "                prime=False\n",
    "        if prime:\n",
    "            pList.append(n)\n",
    "    \n",
    "    return pList\n",
    "\n",
    "L = isPrime(11, 33, 37, 45, 53, 55, 59)  # L=[11, 37, 53, 59]\n",
    "print(L)\n",
    "L = isPrime(101, 105, 117, 127) # L=[101, 127]\n",
    "print(L)    "
   ]
  },
  {
   "cell_type": "code",
   "execution_count": 11,
   "id": "2b3955f5",
   "metadata": {},
   "outputs": [
    {
     "name": "stdout",
     "output_type": "stream",
     "text": [
      "Area Calculation (1) Rect (2) Triangle (3) Circle (4) Exit:1\n",
      "input w,h:3 5\n",
      "area=15.0\n"
     ]
    }
   ],
   "source": [
    "'''2. P.69, 中間EX\n",
    "定義以下三個面積計算函數，利用函數物件概念，產生所需功能。\n",
    "rectArea(w,h) #參數列都不同，請改為 L, w=L[0], h=L[1] 類推\n",
    "circleArea(r)\n",
    "triangleArea(a,b,c)\n",
    "msg = [\"\", \"input w,h:\", \"input a,b, \"input r:\"]\n",
    "'''\n",
    "\n",
    "def area(choice,fun):\n",
    "    L=input(msg[choice]).split()\n",
    "    return fun(L)\n",
    "\n",
    "def rectArea(L):\n",
    "    w=float(L[0])\n",
    "    h=float(L[1])\n",
    "    return w*h\n",
    "\n",
    "def circleArea(L):\n",
    "    r=float(L[0])\n",
    "    return r*r*3.14\n",
    "\n",
    "def triangleArea(L):\n",
    "    a=float(L[0])\n",
    "    b=float(L[1])\n",
    "    c=float(L[2])\n",
    "    s=(a+b+c)/2\n",
    "    return (s*(s-a)*(s-b)*(s-c))**0.5\n",
    "\n",
    "msg=[\"\", \"input w,h:\", \"input a,b,c\", \"input r:\"]\n",
    "choice=int(input(\"Area Calculation (1) Rect (2) Triangle (3) Circle (4) Exit:\"))\n",
    "if choice==1:\n",
    "    area_cal=area(choice,rectArea)\n",
    "    print(f'area={area_cal}')\n",
    "elif choice==2:\n",
    "    area_cal=area(choice,triangleArea)\n",
    "    print(f'area={area_cal}')\n",
    "elif choice==3:\n",
    "    area_cal=area(choice,circleArea)\n",
    "    print(f'area={area_cal}')"
   ]
  },
  {
   "cell_type": "code",
   "execution_count": 12,
   "id": "fc8a2fc9",
   "metadata": {},
   "outputs": [
    {
     "data": {
      "image/png": "[encoded data removed]",
      "text/plain": [
       "<Figure size 432x288 with 1 Axes>"
      ]
     },
     "metadata": {
      "needs_background": "light"
     },
     "output_type": "display_data"
    }
   ],
   "source": [
    "'''3. P.70, EX2\n",
    "以下程式 (a)可根據 x, y二串列的值印出直線圖 (x[1,9], y=x)，請修改 (b)之程式， 呼叫\n",
    "draw()函數，使 能產生 y=(x-25)2之曲線,x範圍 [0,50]。\n",
    "'''\n",
    "\n",
    "import matplotlib.pyplot as plt \n",
    "\n",
    "def fun(n):\n",
    "    return (n-25)**2\n",
    "\n",
    "def draw(x, fun, xLabel='x', yLabel='y', Title='title'): \n",
    "    plt.figure() \n",
    "    y = [fun(i) for i in x] \n",
    "    plt.plot(x, y, 'r') \n",
    "    plt.xlabel(xLabel); \n",
    "    plt.ylabel(yLabel); \n",
    "    plt.title(Title) \n",
    "    plt.show()\n",
    "    \n",
    "x=[i for i in range(51)]\n",
    "draw(x,fun,Title='y=(x-25)**2')"
   ]
  }
 ],
 "metadata": {
  "kernelspec": {
   "display_name": "Python 3 (ipykernel)",
   "language": "python",
   "name": "python3"
  },
  "language_info": {
   "codemirror_mode": {
    "name": "ipython",
    "version": 3
   },
   "file_extension": ".py",
   "mimetype": "text/x-python",
   "name": "python",
   "nbconvert_exporter": "python",
   "pygments_lexer": "ipython3",
   "version": "3.9.12"
  }
 },
 "nbformat": 4,
 "nbformat_minor": 5
}
