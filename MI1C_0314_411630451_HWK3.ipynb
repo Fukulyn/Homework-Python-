{
 "cells": [
  {
   "cell_type": "code",
   "execution_count": 7,
   "id": "aff87c5d",
   "metadata": {
    "scrolled": true
   },
   "outputs": [
    {
     "name": "stdout",
     "output_type": "stream",
     "text": [
      "input r: 1\n",
      ">area= 3.14\n",
      "input r: 3.5\n",
      ">area= 38.465\n",
      "input r: -1\n",
      "r<0,Bye!\n"
     ]
    }
   ],
   "source": [
    "r = float(input(\"input r: \"))\n",
    "while(True):\n",
    "    if(r>-1):\n",
    "        print(\">area=\",r*r*3.14)\n",
    "    if(r<=-1):\n",
    "        print(\"r<0,Bye!\")\n",
    "        break\n",
    "    r = float(input(\"input r: \"))"
   ]
  },
  {
   "cell_type": "code",
   "execution_count": 16,
   "id": "13bb8088",
   "metadata": {
    "scrolled": false
   },
   "outputs": [
    {
     "name": "stdout",
     "output_type": "stream",
     "text": [
      "Input Score: 70\n",
      "Input Score: 80\n",
      "Input Score: -1\n",
      "Input Score: 48\n",
      "Input Score: 69\n",
      "Input Score: -2\n",
      "avg=53.4, passAvg=73.0, max=80\n"
     ]
    }
   ],
   "source": [
    "cnt,total = 0, 0\n",
    "pass_score,pass_cnt = 0, 0\n",
    "Max = 0\n",
    "while(True):\n",
    "    score = int(input(\"Input Score: \"))\n",
    "    if(score > Max):\n",
    "        Max = score\n",
    "    if(score >= 60):\n",
    "        pass_score += score\n",
    "        pass_cnt += 1\n",
    "    if(score == -1):\n",
    "        score = 0\n",
    "    if(score < -1):\n",
    "        break\n",
    "    total += score\n",
    "    cnt += 1\n",
    "print(f\"avg={(total/cnt)}, passAvg={(pass_score/pass_cnt)}, max={Max}\")"
   ]
  },
  {
   "cell_type": "code",
   "execution_count": 13,
   "id": "2add98d6",
   "metadata": {
    "scrolled": true
   },
   "outputs": [
    {
     "name": "stdout",
     "output_type": "stream",
     "text": [
      "本金,年利率,期數= 100000 0.07 2\n",
      "本利和= 114490\n",
      "年均利息收入 = 14490/2=7245\n",
      "continue?(yes/no)yes\n",
      "本金,年利率,期數= 100000 0.07 2\n",
      "本利和= 114490\n",
      "年均利息收入 = 14490/2=7245\n",
      "continue?(yes/no)no\n"
     ]
    }
   ],
   "source": [
    "choice = \"yes\"\n",
    "while (True):\n",
    "    if(choice==\"yes\"):\n",
    "        money,interest,period=map(float,(input(\"本金,年利率,期數= \")).split())\n",
    "        total = money*(1 + interest)**period\n",
    "        year_income = (total-money)/period\n",
    "        print(f\"本利和=\",int(total))\n",
    "        print(f\"年均利息收入 = {int(total-money)}/{int(period)}={int((total-money)/period)}\")\n",
    "    if(choice==\"no\"):\n",
    "        break\n",
    "    choice = input(\"continue?(yes/no)\")"
   ]
  },
  {
   "cell_type": "code",
   "execution_count": 1,
   "id": "25e99aad",
   "metadata": {
    "scrolled": false
   },
   "outputs": [
    {
     "name": "stdout",
     "output_type": "stream",
     "text": [
      "Input lb, ub:5 10 1\n",
      "total=45\n",
      "avg=5.0\n"
     ]
    }
   ],
   "source": [
    "cnt, total = 0, 0\n",
    "a, b, c,=map(int,input(\"Input lb, ub:\").split())\n",
    "if(a % b==0):\n",
    "    for i in range(a,b,c):\n",
    "        total += i\n",
    "        cnt += 1\n",
    "else:\n",
    "    for i in range(c,b,c):\n",
    "        total += i\n",
    "        cnt += 1\n",
    "print(f\"total={total}\\navg={total/cnt}\")"
   ]
  },
  {
   "cell_type": "code",
   "execution_count": null,
   "id": "e3b20c49",
   "metadata": {},
   "outputs": [],
   "source": []
  }
 ],
 "metadata": {
  "kernelspec": {
   "display_name": "Python 3 (ipykernel)",
   "language": "python",
   "name": "python3"
  },
  "language_info": {
   "codemirror_mode": {
    "name": "ipython",
    "version": 3
   },
   "file_extension": ".py",
   "mimetype": "text/x-python",
   "name": "python",
   "nbconvert_exporter": "python",
   "pygments_lexer": "ipython3",
   "version": "3.9.13"
  }
 },
 "nbformat": 4,
 "nbformat_minor": 5
}
