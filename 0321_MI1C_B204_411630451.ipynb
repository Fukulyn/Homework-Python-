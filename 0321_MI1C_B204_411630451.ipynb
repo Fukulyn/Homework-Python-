{
 "cells": [
  {
   "cell_type": "code",
   "execution_count": 2,
   "id": "f82f9a73",
   "metadata": {},
   "outputs": [
    {
     "name": "stdout",
     "output_type": "stream",
     "text": [
      "1\n",
      "2\n",
      "3\n",
      "5\n",
      "7\n"
     ]
    }
   ],
   "source": [
    "#  loop statement: while and for\n",
    "\n",
    "#s = \"I think \"\n",
    "\n",
    "L = [1,2,3,5,7]\n",
    "for x in L:\n",
    "    print(x)"
   ]
  },
  {
   "cell_type": "code",
   "execution_count": 1,
   "id": "4bd79336",
   "metadata": {},
   "outputs": [
    {
     "ename": "SyntaxError",
     "evalue": "invalid syntax (3857283221.py, line 1)",
     "output_type": "error",
     "traceback": [
      "\u001b[1;36m  File \u001b[1;32m\"C:\\Users\\Fukulyn\\AppData\\Local\\Temp\\ipykernel_11884\\3857283221.py\"\u001b[1;36m, line \u001b[1;32m1\u001b[0m\n\u001b[1;33m    for (int i-0; i<10; i++){\u001b[0m\n\u001b[1;37m             ^\u001b[0m\n\u001b[1;31mSyntaxError\u001b[0m\u001b[1;31m:\u001b[0m invalid syntax\n"
     ]
    }
   ],
   "source": [
    "for (int i-0; i<10; i++){\n",
    "    System.out.println(i)\n",
    "}"
   ]
  },
  {
   "cell_type": "code",
   "execution_count": 6,
   "id": "75862856",
   "metadata": {
    "scrolled": true
   },
   "outputs": [
    {
     "name": "stdout",
     "output_type": "stream",
     "text": [
      "0\n",
      "1\n",
      "2\n",
      "3\n",
      "4\n",
      "5\n",
      "6\n",
      "7\n",
      "8\n",
      "9\n"
     ]
    }
   ],
   "source": [
    "for x in range(0,10,1):# i=0, i<10, i+=1, start, end, step\n",
    "    print(x)"
   ]
  },
  {
   "cell_type": "code",
   "execution_count": 8,
   "id": "e4da4d31",
   "metadata": {},
   "outputs": [
    {
     "data": {
      "text/plain": [
       "[]"
      ]
     },
     "execution_count": 8,
     "metadata": {},
     "output_type": "execute_result"
    }
   ],
   "source": [
    "#list(range(0,10)) #step預設1\n",
    "#list(range(10))# start預設0\n",
    "list(range(0)) #i=0; i<0; i++"
   ]
  },
  {
   "cell_type": "code",
   "execution_count": 14,
   "id": "85fc522c",
   "metadata": {
    "scrolled": true
   },
   "outputs": [
    {
     "name": "stdout",
     "output_type": "stream",
     "text": [
      "##########\n",
      "##########\n"
     ]
    }
   ],
   "source": [
    "sym = \"#\"\n",
    "times = 10\n",
    "for i in range(times):\n",
    "    print(sym,sep='',end='')\n",
    "print()\n",
    "print(sym*10)"
   ]
  },
  {
   "cell_type": "code",
   "execution_count": 18,
   "id": "e555688a",
   "metadata": {
    "scrolled": true
   },
   "outputs": [
    {
     "name": "stdout",
     "output_type": "stream",
     "text": [
      "1\n",
      "2\n",
      "3\n",
      "4\n",
      "5\n",
      "6\n",
      "720\n"
     ]
    }
   ],
   "source": [
    "n=6\n",
    "# 1x2x3x4x5x6\n",
    "fac = 1\n",
    "for i in range(1,n+1,1):\n",
    "    fac *=i\n",
    "print(fac)"
   ]
  },
  {
   "cell_type": "code",
   "execution_count": 21,
   "id": "5abb15a7",
   "metadata": {},
   "outputs": [
    {
     "name": "stdout",
     "output_type": "stream",
     "text": [
      "10\n",
      "9\n",
      "8\n",
      "7\n",
      "6\n",
      "5\n",
      "4\n",
      "3\n",
      "2\n",
      "1\n"
     ]
    }
   ],
   "source": [
    "for i in range(10,0,-1): # i=10; i<0 i++\n",
    "    print(i)"
   ]
  },
  {
   "cell_type": "code",
   "execution_count": 27,
   "id": "7a74a700",
   "metadata": {
    "collapsed": true
   },
   "outputs": [
    {
     "name": "stdout",
     "output_type": "stream",
     "text": [
      "a:2b:2c:0d:0e:0f:0g:0h:0i:0j:0k:0l:0m:0n:0o:0p:0q:0r:0s:0t:0u:0v:0w:0x:0y:0z:0"
     ]
    }
   ],
   "source": [
    "cnt = [0 for i in range(0,26)]\n",
    "str = \"This is a book. There is a bird in the Tree.\" #大小\n",
    "for c in str:\n",
    "    if c=='a' or c =='A':\n",
    "        cnt[0] += 1\n",
    "    elif c=='b'or c =='B':\n",
    "        cnt[1] +=1\n",
    "for i in range(0,len(cnt)): #結果\n",
    "    print(chr(ord('a')+i),\":\",cnt[i],sep='', end='')\n",
    "    \n",
    "    "
   ]
  },
  {
   "cell_type": "code",
   "execution_count": 23,
   "id": "e08087d7",
   "metadata": {
    "scrolled": true
   },
   "outputs": [
    {
     "name": "stdout",
     "output_type": "stream",
     "text": [
      "******\n",
      "******\n",
      "******\n",
      "******\n"
     ]
    }
   ],
   "source": [
    "r,c=3,5 # row, c:column\n",
    "for i in range(4):\n",
    "    for j in range(6):\n",
    "        print(\"*\",sep='',end='')\n",
    "    print()"
   ]
  },
  {
   "cell_type": "code",
   "execution_count": 28,
   "id": "17cc434c",
   "metadata": {},
   "outputs": [
    {
     "name": "stdout",
     "output_type": "stream",
     "text": [
      "1\n",
      "12\n",
      "123\n",
      "1234\n",
      "12345\n"
     ]
    }
   ],
   "source": [
    "h = 5\n",
    "for j in range(1):\n",
    "    print(j+1,sep='',end='')\n",
    "print()\n",
    "\n",
    "for j in range(2):\n",
    "    print(j+1,sep='',end='')\n",
    "print()\n",
    " \n",
    "for j in range(3):\n",
    "    print(j+1,sep='',end='')\n",
    "print()\n",
    "\n",
    "for j in range(4):\n",
    "    print(j+1,sep='',end='')\n",
    "print()\n",
    "\n",
    "for j in range(5):\n",
    "    print(j+1,sep='',end='')\n",
    "print()\n"
   ]
  },
  {
   "cell_type": "code",
   "execution_count": 37,
   "id": "6b254076",
   "metadata": {
    "scrolled": true
   },
   "outputs": [
    {
     "name": "stdout",
     "output_type": "stream",
     "text": [
      "*\n",
      "**\n",
      "***\n",
      "****\n",
      "*****\n"
     ]
    }
   ],
   "source": [
    "h = 5\n",
    "for i in range(1,h+1,1):\n",
    "    for i in range(i):\n",
    "        print('*',sep='',end='')\n",
    "    print()"
   ]
  },
  {
   "cell_type": "code",
   "execution_count": 48,
   "id": "c7354749",
   "metadata": {
    "scrolled": true
   },
   "outputs": [
    {
     "name": "stdout",
     "output_type": "stream",
     "text": [
      "    10    4188.790\n",
      "    11    5575.280\n",
      "    12    7238.229\n",
      "    13    9202.772\n",
      "    14   11494.040\n",
      "    15   14137.167\n",
      "    16   17157.285\n",
      "    17   20579.526\n",
      "    18   24429.024\n",
      "    19   28730.912\n",
      "    20   33510.322\n"
     ]
    }
   ],
   "source": [
    "import math\n",
    "start, end, step = 10, 20, 1\n",
    "for r in range(start, end+1, step):\n",
    "    v = 4/3*math.pi*r**3\n",
    "    #print(r,\"\\t\",v)\n",
    "    print(f'{r:-6d}{v:12.3f}')"
   ]
  },
  {
   "cell_type": "code",
   "execution_count": null,
   "id": "d6b9ae39",
   "metadata": {},
   "outputs": [],
   "source": []
  }
 ],
 "metadata": {
  "kernelspec": {
   "display_name": "Python 3 (ipykernel)",
   "language": "python",
   "name": "python3"
  },
  "language_info": {
   "codemirror_mode": {
    "name": "ipython",
    "version": 3
   },
   "file_extension": ".py",
   "mimetype": "text/x-python",
   "name": "python",
   "nbconvert_exporter": "python",
   "pygments_lexer": "ipython3",
   "version": "3.9.13"
  }
 },
 "nbformat": 4,
 "nbformat_minor": 5
}
