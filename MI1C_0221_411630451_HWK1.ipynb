{
 "cells": [
  {
   "cell_type": "code",
   "execution_count": 11,
   "id": "c1c0d5e9",
   "metadata": {},
   "outputs": [
    {
     "name": "stdout",
     "output_type": "stream",
     "text": [
      "timeCode1=133922\n",
      "time1 = 13:39:22\n",
      "timeCode2=192233\n",
      "time2 = 19:22:33\n",
      "diff of time1 and time2 = 18:16:49\n"
     ]
    }
   ],
   "source": [
    "timeCode1 = int(input(\"timeCode1=\"))\n",
    "hour1 = timeCode1 / 10000\n",
    "minute1 = timeCode1 / 100 % 100\n",
    "second1 = timeCode1 % 100\n",
    "print('time1 = %02d:%02d:%02d' % (hour1, minute1, second1))\n",
    "timeCode2 = int(input(\"timeCode2=\"))\n",
    "hour2 = timeCode2 / 10000\n",
    "minute2 = timeCode2 / 100 % 100\n",
    "second2 = timeCode2 % 100\n",
    "print('time2 = %02d:%02d:%02d' % (hour2, minute2, second2))\n",
    "hour = hour1 - hour2\n",
    "minute = minute1 - minute2\n",
    "second = second1 - second2\n",
    "if(hour1 - hour2 < 0):\n",
    "    hour = hour1 - hour2 + 24\n",
    "if(minute1 - minute2 < 0):\n",
    "    minute = minute1 - minute2 + 60\n",
    "if(second1 - second2 < 0):\n",
    "    second = second1 - second2 + 60\n",
    "print(\"diff of time1 and time2 = %02d:%02d:%02d\" %(hour, minute, second))"
   ]
  },
  {
   "cell_type": "code",
   "execution_count": 14,
   "id": "6a527675",
   "metadata": {},
   "outputs": [
    {
     "name": "stdout",
     "output_type": "stream",
     "text": [
      "1 2 -3 3.5 2.2\n",
      "c = 1287.0, z = 2.8021978021978016\n"
     ]
    }
   ],
   "source": [
    "a, b, c, x, y = map(float, input().split())\n",
    "c = (a+b-c)**4 + 3*a**2*b - 3*a*b**2 - 3\n",
    "z = (2*x**2+1) / (3*y+x-1)\n",
    "print(f\"c = {c}, z = {z}\")"
   ]
  },
  {
   "cell_type": "code",
   "execution_count": 15,
   "id": "6ebf4ebd",
   "metadata": {
    "scrolled": true
   },
   "outputs": [
    {
     "name": "stdout",
     "output_type": "stream",
     "text": [
      "a, b, c=-4 8 3\n",
      "x1 = -0.32287565553229536, x2 = 2.3228756555322954\n"
     ]
    }
   ],
   "source": [
    "a, b, c = map(int, input(\"a, b, c=\").split())\n",
    "x1 = (-b + (b**2-4*a*c)**0.5) / (2*a)\n",
    "x2 = (-b - (b**2-4*a*c)**0.5) / (2*a)\n",
    "print(f\"x1 = {x1}, x2 = {x2}\")"
   ]
  },
  {
   "cell_type": "code",
   "execution_count": 16,
   "id": "7e5a2780",
   "metadata": {},
   "outputs": [
    {
     "name": "stdout",
     "output_type": "stream",
     "text": [
      "length of three edges =8 12 5\n",
      "Area = 14.523687548277813\n"
     ]
    }
   ],
   "source": [
    "a, b, c = map(int, input(\"length of three edges =\").split())\n",
    "s = (a+b+c) / 2\n",
    "area = (s*(s-a)*(s-b)*(s-c))**0.5\n",
    "print(f\"Area = {area}\")"
   ]
  },
  {
   "cell_type": "code",
   "execution_count": null,
   "id": "dca3b003",
   "metadata": {},
   "outputs": [],
   "source": []
  }
 ],
 "metadata": {
  "kernelspec": {
   "display_name": "Python 3 (ipykernel)",
   "language": "python",
   "name": "python3"
  },
  "language_info": {
   "codemirror_mode": {
    "name": "ipython",
    "version": 3
   },
   "file_extension": ".py",
   "mimetype": "text/x-python",
   "name": "python",
   "nbconvert_exporter": "python",
   "pygments_lexer": "ipython3",
   "version": "3.9.13"
  }
 },
 "nbformat": 4,
 "nbformat_minor": 5
}
