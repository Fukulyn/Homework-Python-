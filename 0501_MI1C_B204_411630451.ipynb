{
 "cells": [
  {
   "cell_type": "code",
   "execution_count": null,
   "id": "45400a44",
   "metadata": {},
   "outputs": [],
   "source": [
    "#Java\n",
    "int[] a =new int[10];\n",
    "itn[] L ={10,20,30,40,50}; //Array\n",
    "System.out.println(Arrays.toString(L));"
   ]
  },
  {
   "cell_type": "code",
   "execution_count": 1,
   "id": "a4f08059",
   "metadata": {},
   "outputs": [
    {
     "name": "stdout",
     "output_type": "stream",
     "text": [
      "[10, 20, 30, 40, 50]\n",
      "<class 'list'>\n"
     ]
    }
   ],
   "source": [
    "L=[10,20,30,40,50]\n",
    "print(L)\n",
    "print(type(L))"
   ]
  },
  {
   "cell_type": "code",
   "execution_count": 2,
   "id": "699e92b2",
   "metadata": {},
   "outputs": [
    {
     "name": "stdout",
     "output_type": "stream",
     "text": [
      "HelloHelloHello\n"
     ]
    }
   ],
   "source": [
    "#Python Sequence: list, tuple, str\n",
    "L = [10,20,30,40]\n",
    "L[1]= 20\n",
    "t = (10,20,30,40)#不可變串列,tuple\n",
    "#t[1]=20\n",
    "s = 'Hello'\n",
    "print(s*3)"
   ]
  },
  {
   "cell_type": "code",
   "execution_count": 5,
   "id": "c30c0b90",
   "metadata": {},
   "outputs": [
    {
     "name": "stdout",
     "output_type": "stream",
     "text": [
      "[10, 30]\n"
     ]
    },
    {
     "data": {
      "text/plain": [
       "'o'"
      ]
     },
     "execution_count": 5,
     "metadata": {},
     "output_type": "execute_result"
    }
   ],
   "source": [
    "L = [10,20,30,40,50]\n",
    "print(L[0:4:2]) # int i=0 i<4 i+=2\n",
    "s = 'Hello'\n",
    "max(s) #ASCII code 最大的字元"
   ]
  },
  {
   "cell_type": "code",
   "execution_count": 9,
   "id": "f4dc1910",
   "metadata": {},
   "outputs": [
    {
     "name": "stdout",
     "output_type": "stream",
     "text": [
      "[[], [], [], []]\n",
      "[[98], [98], [98], [98]]\n"
     ]
    }
   ],
   "source": [
    "scores=[[]]*4\n",
    "print(scores)\n",
    "scores[0].append(98)\n",
    "print(scores)"
   ]
  },
  {
   "cell_type": "code",
   "execution_count": 11,
   "id": "b02ec5ef",
   "metadata": {
    "scrolled": true
   },
   "outputs": [
    {
     "name": "stdout",
     "output_type": "stream",
     "text": [
      "[[], [], [], []]\n",
      "[[98], [], [], []]\n"
     ]
    }
   ],
   "source": [
    "scores=[[] for i in range(4)]\n",
    "print(scores)\n",
    "scores[0].append(98)\n",
    "print(scores)"
   ]
  },
  {
   "cell_type": "code",
   "execution_count": 17,
   "id": "9dfa33b7",
   "metadata": {},
   "outputs": [
    {
     "name": "stdout",
     "output_type": "stream",
     "text": [
      "[10, 20, 30, 40, 45, 50]\n"
     ]
    }
   ],
   "source": [
    "L = [10,20,30,40,50] # 效率很差\n",
    "#L.append(60)\n",
    "#L[1:4] = []\n",
    "L.insert(4,45)# 效率很差 別濫用\n",
    "print(L)"
   ]
  },
  {
   "cell_type": "code",
   "execution_count": 19,
   "id": "bb471890",
   "metadata": {},
   "outputs": [
    {
     "name": "stdout",
     "output_type": "stream",
     "text": [
      "[[1, 2, 3], [4, 5, 6], [7, 8, 9]]\n"
     ]
    }
   ],
   "source": [
    "m = [[1,2,3],[4,5,6],[7,8,9]] #3個一維串列組成\n",
    "print(m)"
   ]
  },
  {
   "cell_type": "code",
   "execution_count": 37,
   "id": "96197bff",
   "metadata": {},
   "outputs": [
    {
     "name": "stdout",
     "output_type": "stream",
     "text": [
      "[1, 2, 3]\n",
      "[7, 8, 9]\n",
      "<class 'list'> <class 'list'>\n",
      "3 3\n",
      "1 2 3\n",
      "7 8 9\n",
      "[[1, 2, 3], [11, 12, 13], [7, 8, 9]]\n"
     ]
    }
   ],
   "source": [
    "m=[[1,2,3],[4,5,6],[7,8,9]]\n",
    "print(m[0])\n",
    "print(m[2])\n",
    "print(type(m),type(m[0]))\n",
    "print(len(m),len(m[0]))\n",
    "\n",
    "print(m[0][0],m[0][1],m[0][2])\n",
    "print(m[2][0],m[2][1],m[2][2])\n",
    "m[1]=[11,12,13]\n",
    "print(m)"
   ]
  },
  {
   "cell_type": "code",
   "execution_count": 44,
   "id": "6edf10a2",
   "metadata": {},
   "outputs": [
    {
     "name": "stdout",
     "output_type": "stream",
     "text": [
      "78\n"
     ]
    }
   ],
   "source": [
    "m=[[1,2,3,4], [5,6,7,8], [9,10,11,12]]\n",
    "total = 0\n",
    "for i in range(len(m)):\n",
    "    arr = m[i]\n",
    "    for j in range(len(m[i])):\n",
    "        total += arr[j]\n",
    "print(total) \n",
    "\n",
    "#for i in range(len(m)):\n",
    "#    for j in range(len(m[j])):\n",
    "#        total +=m[i][j]\n",
    "#print(total) 45"
   ]
  },
  {
   "cell_type": "code",
   "execution_count": 2,
   "id": "40ffd127",
   "metadata": {
    "scrolled": true
   },
   "outputs": [
    {
     "name": "stdout",
     "output_type": "stream",
     "text": [
      "45\n",
      "45\n"
     ]
    }
   ],
   "source": [
    "m=[[1,2,3], [4,5,6], [7,8,9]]\n",
    "total = sum(m[0])+sum(m[1])+sum(m[2])\n",
    "#total = 0\n",
    "#for i in range(len(m)):\n",
    "#    for j in range(len(m[i])):\n",
    "#       total += m[i][j]\n",
    "print(total) "
   ]
  },
  {
   "cell_type": "code",
   "execution_count": 28,
   "id": "6249d546",
   "metadata": {},
   "outputs": [
    {
     "name": "stdout",
     "output_type": "stream",
     "text": [
      "1 2 \n",
      "\n",
      "3 4 5 6 \n",
      "\n",
      "7 8 9 \n",
      "\n"
     ]
    }
   ],
   "source": [
    "eleNo = [2,4,3]\n",
    "cnt = 1\n",
    "for i in range(len(eleNo)):\n",
    "    for j in range(eleNo[i]):\n",
    "        print(cnt,end=' ')\n",
    "        cnt+=1\n",
    "    print('\\n')"
   ]
  },
  {
   "cell_type": "code",
   "execution_count": 54,
   "id": "d2161fa9",
   "metadata": {},
   "outputs": [
    {
     "name": "stdout",
     "output_type": "stream",
     "text": [
      "[1, 2]\n",
      "[3, 4, 5, 6]\n",
      "[7, 8, 9]\n"
     ]
    }
   ],
   "source": [
    "eleNo = [2,4,3]\n",
    "m=[]\n",
    "cnt = 1\n",
    "for i in range(len(eleNo)):#列\n",
    "    m.append([])\n",
    "    for j in range(eleNo[i]):#欄\n",
    "        m[i].append(cnt)\n",
    "        cnt+=1\n",
    "    print(m[i])"
   ]
  },
  {
   "cell_type": "code",
   "execution_count": 51,
   "id": "e7ecfb26",
   "metadata": {},
   "outputs": [
    {
     "name": "stdout",
     "output_type": "stream",
     "text": [
      "[[-1, -1, -1, -1], [-1, -1, -1, -1], [-1, -1, -1, -1]]\n"
     ]
    }
   ],
   "source": [
    "r=3;c=4\n",
    "init_val=-1\n",
    "m=[]\n",
    "for i in range(r):\n",
    "    m.append([])\n",
    "    for j in range(c):\n",
    "        m[i].append(-1)\n",
    "print(m)"
   ]
  }
 ],
 "metadata": {
  "kernelspec": {
   "display_name": "Python 3 (ipykernel)",
   "language": "python",
   "name": "python3"
  },
  "language_info": {
   "codemirror_mode": {
    "name": "ipython",
    "version": 3
   },
   "file_extension": ".py",
   "mimetype": "text/x-python",
   "name": "python",
   "nbconvert_exporter": "python",
   "pygments_lexer": "ipython3",
   "version": "3.9.13"
  }
 },
 "nbformat": 4,
 "nbformat_minor": 5
}
