{
 "cells": [
  {
   "cell_type": "code",
   "execution_count": 11,
   "metadata": {},
   "outputs": [
    {
     "name": "stdout",
     "output_type": "stream",
     "text": [
      "*****\n",
      "*****\n",
      "*****\n",
      "@@@@@@@\n",
      "@     @\n",
      "@     @\n",
      "@     @\n",
      "@@@@@@@\n"
     ]
    }
   ],
   "source": [
    "def drawRect(row, col, sym, fill):\n",
    "    if fill:\n",
    "        for i in range(row):\n",
    "            print(sym*col)\n",
    "    else:\n",
    "        for i in range(row):\n",
    "            for j in range(col):\n",
    "                if(i==0 or i==row-1 or j==0 or j==col-1):\n",
    "                    print(sym, end='')\n",
    "                else:\n",
    "                    print(\" \", end='')\n",
    "            print()\n",
    "if(__name__ == \"__main__\"):\n",
    "    drawRect(3, 5, sym='*', fill=True)\n",
    "    drawRect(5, 7, sym='@', fill=False)"
   ]
  },
  {
   "cell_type": "code",
   "execution_count": 3,
   "metadata": {},
   "outputs": [
    {
     "name": "stdout",
     "output_type": "stream",
     "text": [
      "60/36 -> 1+2/3\n",
      "2\n",
      "12\n",
      "28/98 -> 2/7\n",
      "14\n",
      "49/7 -> 7\n",
      "7\n",
      "0/8 -> 0\n",
      "18/18 -> 1\n",
      "18\n"
     ]
    }
   ],
   "source": [
    "import math\n",
    "def printFrac(up, down):\n",
    "    GCD = math.gcd(up, down)\n",
    "    i = up // down\n",
    "    if(up!=0 and down!=0):\n",
    "        if(i>0 and up%down!=0):\n",
    "            print(f\"{up}/{down} -> {i}+{up//GCD-i*down//GCD}/{down//GCD}\")\n",
    "            print(up//GCD-i*down//GCD)\n",
    "            print(GCD)\n",
    "        elif(i>0 and up%down==0):\n",
    "            print(f\"{up}/{down} -> {i}\")\n",
    "            print(GCD)\n",
    "        else:\n",
    "            print(f\"{up}/{down} -> {up//GCD}/{down//GCD}\")\n",
    "            print(GCD)\n",
    "    else:\n",
    "        print(f\"{up}/{down} -> 0\")\n",
    "def testFrac():\n",
    "    upList = [60, 28, 49, 0, 18]\n",
    "    downList = [36, 98, 7, 8, 18]\n",
    "    for i in range(len(upList)):\n",
    "        printFrac(upList[i], downList[i])\n",
    "if(__name__ == \"__main__\"):\n",
    "    testFrac()"
   ]
  },
  {
   "cell_type": "code",
   "execution_count": 13,
   "metadata": {},
   "outputs": [
    {
     "data": {
      "image/png": "[encoded data removed]",
      "text/plain": [
       "<Figure size 640x480 with 1 Axes>"
      ]
     },
     "metadata": {},
     "output_type": "display_data"
    }
   ],
   "source": [
    "import math\n",
    "import matplotlib.pyplot as plt\n",
    "radius = []\n",
    "for i in range(2, 300):\n",
    "    prime = True\n",
    "    for j in range(2, i):\n",
    "        if i % j == 0:\n",
    "            prime = False\n",
    "            break\n",
    "    if prime:\n",
    "        radius.append(i)\n",
    "angle = [math.degrees(radius[i]) for i in range(len(radius))]\n",
    "x = []\n",
    "y = []\n",
    "for i in range(len(radius)):\n",
    "    x_coord = radius[i] * math.cos(math.radians(angle[i]))\n",
    "    y_coord = radius[i] * math.sin(math.radians(angle[i]))\n",
    "    x.append(x_coord)\n",
    "    y.append(y_coord)\n",
    "plt.plot(x, y, \"ro\")\n",
    "plt.show()"
   ]
  }
 ],
 "metadata": {
  "kernelspec": {
   "display_name": "base",
   "language": "python",
   "name": "python3"
  },
  "language_info": {
   "codemirror_mode": {
    "name": "ipython",
    "version": 3
   },
   "file_extension": ".py",
   "mimetype": "text/x-python",
   "name": "python",
   "nbconvert_exporter": "python",
   "pygments_lexer": "ipython3",
   "version": "3.9.13"
  },
  "orig_nbformat": 4
 },
 "nbformat": 4,
 "nbformat_minor": 2
}
