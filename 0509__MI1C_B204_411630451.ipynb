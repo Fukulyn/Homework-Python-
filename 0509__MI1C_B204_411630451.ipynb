{
 "cells": [
  {
   "cell_type": "code",
   "execution_count": 2,
   "metadata": {},
   "outputs": [
    {
     "data": {
      "text/plain": [
       "28"
      ]
     },
     "execution_count": 2,
     "metadata": {},
     "output_type": "execute_result"
    }
   ],
   "source": [
    "#運算字串 eval()\n",
    "a=5\n",
    "eval('5*a+3')"
   ]
  },
  {
   "cell_type": "code",
   "execution_count": 1,
   "metadata": {},
   "outputs": [
    {
     "name": "stdout",
     "output_type": "stream",
     "text": [
      "3\n",
      "2\n",
      "-2\n",
      "-3\n"
     ]
    }
   ],
   "source": [
    "#無條件捨去、進位 math.ceil() math.floor()\n",
    "import math\n",
    "print(math.ceil(2.35))\n",
    "print(math.floor(2.35))\n",
    "print(math.ceil(-2.35))\n",
    "print(math.floor(-2.35))"
   ]
  },
  {
   "cell_type": "code",
   "execution_count": 28,
   "metadata": {},
   "outputs": [
    {
     "data": {
      "text/plain": [
       "38.48451000647496"
      ]
     },
     "execution_count": 28,
     "metadata": {},
     "output_type": "execute_result"
    }
   ],
   "source": [
    "#圓周率 math.pi()\n",
    "r=3.5\n",
    "math.pi*r*r"
   ]
  },
  {
   "cell_type": "code",
   "execution_count": 43,
   "metadata": {},
   "outputs": [
    {
     "name": "stdout",
     "output_type": "stream",
     "text": [
      "18.867962264113206\n"
     ]
    }
   ],
   "source": [
    "#平方根 math.sqrt()\n",
    "x1,y1=8,9\n",
    "x2,y2=18,25\n",
    "#dis = math.sqrt(pow(x1-x2,2)+pow(y1-y2,2))\n",
    "dis = math.sqrt((x1-x2)*(x1-x2)+(y1-y2)*(y1-y2))\n",
    "print(dis)"
   ]
  },
  {
   "cell_type": "code",
   "execution_count": 38,
   "metadata": {},
   "outputs": [
    {
     "name": "stdout",
     "output_type": "stream",
     "text": [
      "6.009245006917366\n"
     ]
    }
   ],
   "source": [
    "#絕對值 abs()\n",
    "x,y = 2.5,3.5\n",
    "t1 = abs(pow(x-y,3))\n",
    "t2 = abs(pow(x+y,3))\n",
    "z=pow(abs(pow(x-y,3))+abs(pow(x+y,3)),1.0/3)\n",
    "print(z)\n",
    "    "
   ]
  },
  {
   "cell_type": "code",
   "execution_count": 47,
   "metadata": {},
   "outputs": [
    {
     "name": "stdout",
     "output_type": "stream",
     "text": [
      "0.9999999999999999\n",
      "1.0\n"
     ]
    }
   ],
   "source": [
    "#math.fsum() 比sum()更精準\n",
    "print(sum([.1,.1,.1,.1,.1,.1,.1,.1,.1,.1]))\n",
    "print(math.fsum([.1,.1,.1,.1,.1,.1,.1,.1,.1,.1]))"
   ]
  },
  {
   "cell_type": "code",
   "execution_count": 50,
   "metadata": {},
   "outputs": [
    {
     "name": "stdout",
     "output_type": "stream",
     "text": [
      "v = 179.594\n"
     ]
    }
   ],
   "source": [
    "import math\n",
    "# --- 函數原型: shpereVolume:R->R ----\n",
    "\n",
    "def sphereVolume(r):\n",
    "    rlt = 4/3*math.pi*r*r*r\n",
    "    return rlt\n",
    "\n",
    "# ---------- main(): global scope ---------    \n",
    "\n",
    "x=3.5        # 球體半徑 3.5\n",
    "v=sphereVolume(x)       #呼叫函數計算球體體積\n",
    "print('v = {:.3f}'.format(v))"
   ]
  },
  {
   "cell_type": "code",
   "execution_count": 2,
   "metadata": {},
   "outputs": [
    {
     "name": "stdout",
     "output_type": "stream",
     "text": [
      "2750\n",
      "2750\n"
     ]
    }
   ],
   "source": [
    "def sumup(lb:int, ub:int)->int:\n",
    "    total = 0\n",
    "    for i in range(lb,ub+1):\n",
    "        total += i\n",
    "    return total\n",
    "print(sumup(23,77))\n",
    "\n",
    "#-------main()-------\n",
    "total = sumup(23,77)\n",
    "print(total)"
   ]
  },
  {
   "cell_type": "code",
   "execution_count": 6,
   "metadata": {},
   "outputs": [
    {
     "name": "stdout",
     "output_type": "stream",
     "text": [
      "8\n",
      "8\n"
     ]
    }
   ],
   "source": [
    "def my_max(x,y,z):\n",
    "    maxV = x\n",
    "    if y>maxV: maxV = y\n",
    "    if z>maxV: maxV = z\n",
    "    return maxV\n",
    "print(my_max(2,8,5))\n",
    "\n",
    "#-----main()-----\n",
    "m=max(2,8,5)\n",
    "print(m)"
   ]
  },
  {
   "cell_type": "code",
   "execution_count": 10,
   "metadata": {},
   "outputs": [
    {
     "name": "stdout",
     "output_type": "stream",
     "text": [
      "area = 6.0\n"
     ]
    }
   ],
   "source": [
    "def triangleArea(a:float,b:float,c:float)->float:\n",
    "    s = (a+b+c)/2\n",
    "    area = (s*(s-a)*(s-b)*(s-c))**0.5\n",
    "    return area\n",
    "#-----main()-----\n",
    "a,b,c=3,4,5\n",
    "area = triangleArea(a,b,c)\n",
    "print(\"area =\",area)"
   ]
  },
  {
   "cell_type": "code",
   "execution_count": 11,
   "metadata": {},
   "outputs": [
    {
     "name": "stdout",
     "output_type": "stream",
     "text": [
      "gcd 1\n"
     ]
    }
   ],
   "source": [
    "def gcd(a:int,b:int)->int:\n",
    "    rlt = 1\n",
    "    #DIY\n",
    "    return rlt\n",
    "x,y =(98,28)\n",
    "z =gcd(x,y)\n",
    "print(\"gcd\",z)\n"
   ]
  },
  {
   "cell_type": "code",
   "execution_count": 14,
   "metadata": {},
   "outputs": [
    {
     "name": "stdout",
     "output_type": "stream",
     "text": [
      "[74, 3]\n"
     ]
    }
   ],
   "source": [
    "def max_min(L):\n",
    "    ub=max(L)\n",
    "    lb=min(L)\n",
    "    rlt = [ub,lb]\n",
    "    #return ub,lb\n",
    "    return rlt\n",
    "\n",
    "L = [18,9,22,74,3,55]\n",
    "ub , lb = max_min(L)\n",
    "rlt = max_min(L)\n",
    "print(rlt)\n",
    "#print(f'max={ub},min={lb}')"
   ]
  },
  {
   "cell_type": "code",
   "execution_count": 3,
   "metadata": {},
   "outputs": [
    {
     "ename": "UnboundLocalError",
     "evalue": "local variable 'i' referenced before assignment",
     "output_type": "error",
     "traceback": [
      "\u001b[1;31m---------------------------------------------------------------------------\u001b[0m",
      "\u001b[1;31mUnboundLocalError\u001b[0m                         Traceback (most recent call last)",
      "Cell \u001b[1;32mIn[3], line 10\u001b[0m\n\u001b[0;32m      8\u001b[0m     \u001b[39mreturn\u001b[39;00m i\n\u001b[0;32m      9\u001b[0m x \u001b[39m=\u001b[39m [i \u001b[39mfor\u001b[39;00m i \u001b[39min\u001b[39;00m \u001b[39mrange\u001b[39m(\u001b[39m-\u001b[39m\u001b[39m10\u001b[39m,\u001b[39m11\u001b[39m)]\n\u001b[1;32m---> 10\u001b[0m y \u001b[39m=\u001b[39m [f(x)]\n\u001b[0;32m     11\u001b[0m \u001b[39mprint\u001b[39m(y)\n",
      "Cell \u001b[1;32mIn[3], line 2\u001b[0m, in \u001b[0;36mf\u001b[1;34m(x)\u001b[0m\n\u001b[0;32m      1\u001b[0m \u001b[39mdef\u001b[39;00m \u001b[39mf\u001b[39m(x:\u001b[39mfloat\u001b[39m)\u001b[39m-\u001b[39m\u001b[39m>\u001b[39m\u001b[39mfloat\u001b[39m:\n\u001b[1;32m----> 2\u001b[0m     \u001b[39mif\u001b[39;00m i\u001b[39m>\u001b[39m\u001b[39m3\u001b[39m:\n\u001b[0;32m      3\u001b[0m         i\u001b[39m=\u001b[39mi\u001b[39m*\u001b[39mi\n\u001b[0;32m      4\u001b[0m     \u001b[39melif\u001b[39;00m i\u001b[39m>\u001b[39m\u001b[39m=\u001b[39m\u001b[39m-\u001b[39m\u001b[39m3\u001b[39m:\n",
      "\u001b[1;31mUnboundLocalError\u001b[0m: local variable 'i' referenced before assignment"
     ]
    }
   ],
   "source": [
    "def f(x:float)->float:\n",
    "    if i>3:\n",
    "        i=i*i\n",
    "    elif i>=-3:\n",
    "        i=math.sqrt(abs(x))\n",
    "    elif i<-3:\n",
    "        i=pow(i,5)+(2*pow(i,4))\n",
    "    return i\n",
    "x = [i for i in range(-10,11)]\n",
    "y = [f(x)]\n",
    "print(y)"
   ]
  },
  {
   "cell_type": "code",
   "execution_count": null,
   "metadata": {},
   "outputs": [],
   "source": []
  }
 ],
 "metadata": {
  "kernelspec": {
   "display_name": "Python 3",
   "language": "python",
   "name": "python3"
  },
  "language_info": {
   "codemirror_mode": {
    "name": "ipython",
    "version": 3
   },
   "file_extension": ".py",
   "mimetype": "text/x-python",
   "name": "python",
   "nbconvert_exporter": "python",
   "pygments_lexer": "ipython3",
   "version": "3.10.4"
  },
  "orig_nbformat": 4
 },
 "nbformat": 4,
 "nbformat_minor": 2
}
