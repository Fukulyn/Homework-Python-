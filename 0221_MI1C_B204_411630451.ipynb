{
 "cells": [
  {
   "cell_type": "code",
   "execution_count": 3,
   "id": "fe9faa0b",
   "metadata": {},
   "outputs": [
    {
     "name": "stdout",
     "output_type": "stream",
     "text": [
      "Hello\n"
     ]
    }
   ],
   "source": [
    "print(\"Hello\")# only one statement"
   ]
  },
  {
   "cell_type": "code",
   "execution_count": 15,
   "id": "c459d2e5",
   "metadata": {},
   "outputs": [
    {
     "name": "stdout",
     "output_type": "stream",
     "text": [
      "Welcome to Python programming\n",
      "1998 9 15--> birthday\n"
     ]
    }
   ],
   "source": [
    "print(\"Welcome to\",end=' ')\n",
    "#String, str String name = \"Peter\";\n",
    "#end... --> keyword arguement \n",
    "print('Python programming')\n",
    "print('1998','9','15',end='')\n",
    "print(\"--> birthday\")"
   ]
  },
  {
   "cell_type": "code",
   "execution_count": 29,
   "id": "f011c9f5",
   "metadata": {},
   "outputs": [
    {
     "name": "stdout",
     "output_type": "stream",
     "text": [
      "Welcome\n",
      "to\n",
      "Python\n",
      "programming\n",
      "abcd\n",
      "abcdef\r",
      "kkk\n"
     ]
    }
   ],
   "source": [
    "print(\"Welcome\\nto\\nPython\\nprogramming\")\n",
    "print(\"abcd\")\n",
    "print(\"abcdef\\rkkk\")"
   ]
  },
  {
   "cell_type": "code",
   "execution_count": 20,
   "id": "db79fbdf",
   "metadata": {},
   "outputs": [
    {
     "name": "stdout",
     "output_type": "stream",
     "text": [
      "Name\tSalary\tComments\\Grade\n",
      "----------------------------------------\n",
      "Peter\t35000\tGood \"Performance\"\n"
     ]
    }
   ],
   "source": [
    "print(\"Name\\tSalary\\tComments\\\\Grade\")\n",
    "print(\"-\"*40)\n",
    "print(\"Peter\\t35000\\tGood \\\"Performance\\\"\")"
   ]
  },
  {
   "cell_type": "code",
   "execution_count": 4,
   "id": "779b8c91",
   "metadata": {
    "scrolled": true
   },
   "outputs": [
    {
     "name": "stdout",
     "output_type": "stream",
     "text": [
      "Hello\\tWorld\n",
      "Hello World\n",
      "Hello World\n",
      "Hello       World\n"
     ]
    }
   ],
   "source": [
    "print(r\"Hello\\tWorld\")\n",
    "print(\"Hello\"+\" World\")\n",
    "print(\"Hello\",\"World\")\n",
    "print(\"Hello       World\")"
   ]
  },
  {
   "cell_type": "code",
   "execution_count": 25,
   "id": "5dbf6edc",
   "metadata": {},
   "outputs": [
    {
     "name": "stdout",
     "output_type": "stream",
     "text": [
      "123\n",
      "123\n"
     ]
    }
   ],
   "source": [
    "print(\"123\")#-->String(str)\n",
    "print(123)#-->Int"
   ]
  },
  {
   "cell_type": "code",
   "execution_count": 30,
   "id": "4e5d612f",
   "metadata": {},
   "outputs": [
    {
     "name": "stdout",
     "output_type": "stream",
     "text": [
      "r=2,c=3\n"
     ]
    }
   ],
   "source": [
    "r=2;c=3\n",
    "print(\"r=\",r,\",c=\",c,sep=\"\" )"
   ]
  },
  {
   "cell_type": "code",
   "execution_count": 34,
   "id": "ad683d3d",
   "metadata": {},
   "outputs": [
    {
     "name": "stdout",
     "output_type": "stream",
     "text": [
      "Radius of a circle = 3\n",
      "Area = 3.1416 * 3 * 3 = 28.2744\n"
     ]
    }
   ],
   "source": [
    "r = 3\n",
    "pi = 3.1416\n",
    "print(\"Radius of a circle =\",r)\n",
    "print(\"Area =\",pi,\"*\",r,\"*\",r,\"=\",pi*r*r, sep=' ')"
   ]
  },
  {
   "cell_type": "code",
   "execution_count": 40,
   "id": "d7de06b6",
   "metadata": {},
   "outputs": [
    {
     "name": "stdout",
     "output_type": "stream",
     "text": [
      "b= 85\n",
      "b= 125\n"
     ]
    }
   ],
   "source": [
    "a=20\n",
    "b=4*a+5\n",
    "print(\"b=\",b)\n",
    "a=30\n",
    "b=4*a+5\n",
    "print('b=',b)"
   ]
  },
  {
   "cell_type": "code",
   "execution_count": 43,
   "id": "efcd056e",
   "metadata": {},
   "outputs": [
    {
     "name": "stdout",
     "output_type": "stream",
     "text": [
      "5 3 5\n"
     ]
    }
   ],
   "source": [
    "a,b,c=3,4,5\n",
    "\n",
    "#----Java Swap----\n",
    "a,b=3,5\n",
    "a,b=b,a\n",
    "print(a,b,c)"
   ]
  },
  {
   "cell_type": "code",
   "execution_count": 44,
   "id": "99c2f268",
   "metadata": {},
   "outputs": [],
   "source": [
    "#P,9,EX"
   ]
  },
  {
   "cell_type": "code",
   "execution_count": 49,
   "id": "2548846d",
   "metadata": {},
   "outputs": [
    {
     "name": "stdout",
     "output_type": "stream",
     "text": [
      "<class 'int'>\n",
      "<class 'float'>\n",
      "<class 'str'>\n",
      "1855336307376\n"
     ]
    }
   ],
   "source": [
    "x = 5\n",
    "print(type(x))\n",
    "y = 2.5\n",
    "print(type(y))\n",
    "z = ('S')\n",
    "print(type(z))\n",
    "print(id(y))"
   ]
  },
  {
   "cell_type": "code",
   "execution_count": 50,
   "id": "dea9db60",
   "metadata": {},
   "outputs": [
    {
     "name": "stdout",
     "output_type": "stream",
     "text": [
      "avg= 58.5\n"
     ]
    }
   ],
   "source": [
    "no1 = 45\n",
    "no2 = 72\n",
    "#sum = no1 + no2 #sum是python的內建函數名稱,請勿亂用\n",
    "total = no1 + no2\n",
    "print(\"avg=\",total/2.0)"
   ]
  },
  {
   "cell_type": "code",
   "execution_count": null,
   "id": "d7222f34",
   "metadata": {},
   "outputs": [],
   "source": [
    "# P.10, Ex2, DIY here"
   ]
  }
 ],
 "metadata": {
  "kernelspec": {
   "display_name": "Python 3 (ipykernel)",
   "language": "python",
   "name": "python3"
  },
  "language_info": {
   "codemirror_mode": {
    "name": "ipython",
    "version": 3
   },
   "file_extension": ".py",
   "mimetype": "text/x-python",
   "name": "python",
   "nbconvert_exporter": "python",
   "pygments_lexer": "ipython3",
   "version": "3.9.13"
  }
 },
 "nbformat": 4,
 "nbformat_minor": 5
}
