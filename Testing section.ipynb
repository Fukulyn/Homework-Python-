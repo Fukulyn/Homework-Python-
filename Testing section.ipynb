{
 "cells": [
  {
   "cell_type": "code",
   "execution_count": 18,
   "id": "89e35b89",
   "metadata": {},
   "outputs": [
    {
     "name": "stdout",
     "output_type": "stream",
     "text": [
      "8\n",
      "6\n",
      "15\n",
      "-4\n",
      "(x1,y1)(x2,y2) =8 6 15 -4\n",
      "distance of (8,6 ) and (6,-4) is 12.2066\n"
     ]
    }
   ],
   "source": [
    "x1 = int(input())\n",
    "y1 = int(input())\n",
    "x2 = int(input())\n",
    "y2 = int(input())\n",
    "length = ((x1-x2)**2 +(y1-y2)**2)**0.5\n",
    "print(f'(x1,y1)(x2,y2) ={x1} {y1} {x2} {y2}')\n",
    "print(f'distance of ({x1},{y1} ) and ({y1},{y2}) is {length:.4f}')"
   ]
  },
  {
   "cell_type": "code",
   "execution_count": 1,
   "id": "6d39e9de",
   "metadata": {},
   "outputs": [
    {
     "name": "stdout",
     "output_type": "stream",
     "text": [
      "F\n",
      "T\n",
      "171.45\n",
      " Firstname, last name:F T\n",
      "Height(cm):171.45\n",
      "***Report***\n",
      "T,F         6'67.5\"\n"
     ]
    }
   ],
   "source": [
    "Firstname = input()\n",
    "Lastname = input()\n",
    "height = float(input())\n",
    "inch = height/2.54\n",
    "feet = inch/12\n",
    "remain = (height-(feet*12))/2.54\n",
    "print(f' Firstname, last name:{Firstname} {Lastname}')\n",
    "print(f'Height(cm):{height}')\n",
    "print('***Report***')\n",
    "print(f'{Lastname},{Firstname}         {feet:.0f}\\'{inch:.1f}\\\"')"
   ]
  },
  {
   "cell_type": "code",
   "execution_count": 5,
   "id": "7991ccb9",
   "metadata": {
    "scrolled": true
   },
   "outputs": [
    {
     "name": "stdout",
     "output_type": "stream",
     "text": [
      "Guess:3\n",
      "Guess:6\n",
      "Guess:5\n",
      "Try again\n"
     ]
    }
   ],
   "source": [
    "secret_number = 9#the guess\n",
    "guess_count = 0 #user \n",
    "guess_limit = 3\n",
    "while guess_count < guess_limit:#guessing times\n",
    "    guess = int(input('Guess:'))\n",
    "    guess_count += 1\n",
    "    if guess == secret_number:\n",
    "        print(\"You won!\")\n",
    "        break\n",
    "else:\n",
    "    print('Try again')\n",
    "        "
   ]
  },
  {
   "cell_type": "code",
   "execution_count": 4,
   "id": "5baf2d14",
   "metadata": {
    "scrolled": true
   },
   "outputs": [
    {
     "name": "stdout",
     "output_type": "stream",
     "text": [
      "> stop\n",
      "Car is already stopped!\n",
      "> stop\n",
      "Car is already stopped!\n",
      "> start\n",
      "Car started...\n",
      "> start\n",
      "Car is already started!\n",
      "> stop\n",
      "Car stopped.\n",
      "> quit\n"
     ]
    }
   ],
   "source": [
    "command = \"\"\n",
    "started = False\n",
    "while True:\n",
    "    command = input(\"> \").lower()\n",
    "    if command == 'start':\n",
    "        if started:\n",
    "            print('Car is already started!')\n",
    "        else:\n",
    "            started = True\n",
    "            print(\"Car started...\")\n",
    "    elif command == 'stop':\n",
    "        if not started:\n",
    "            print(\"Car is already stopped!\")\n",
    "        else:\n",
    "            started = False\n",
    "            print(\"Car stopped.\")\n",
    "    elif command == 'help':\n",
    "        print(\"\"\"\n",
    "        start - to start the car\n",
    "        stop - to stop the car\n",
    "        quit - to quit\n",
    "        \"\"\")\n",
    "    elif command == 'quit':\n",
    "        break\n",
    "    else:\n",
    "        print(\"Sorry, I don't understand\")"
   ]
  },
  {
   "cell_type": "code",
   "execution_count": 7,
   "id": "71ab4496",
   "metadata": {
    "scrolled": true
   },
   "outputs": [
    {
     "name": "stdout",
     "output_type": "stream",
     "text": [
      "10\n",
      "20\n",
      "30\n"
     ]
    }
   ],
   "source": [
    "prices = [10,20,30]\n",
    "for Sum in prices:\n",
    "    print(Sum)\n"
   ]
  },
  {
   "cell_type": "code",
   "execution_count": 16,
   "id": "c8c31604",
   "metadata": {},
   "outputs": [
    {
     "name": "stdout",
     "output_type": "stream",
     "text": [
      "x\n",
      "x\n",
      "x\n",
      "x\n",
      "xxxxx\n"
     ]
    }
   ],
   "source": [
    "numbers = [1, 1, 1, 1, 5]\n",
    "for times in numbers:\n",
    "    for stars in range(times):\n",
    "        print('x',end='')\n",
    "    print()"
   ]
  },
  {
   "cell_type": "code",
   "execution_count": 7,
   "id": "aa362a32",
   "metadata": {
    "scrolled": true
   },
   "outputs": [
    {
     "name": "stdout",
     "output_type": "stream",
     "text": [
      "a,b,c 5 5 5 \n",
      "2nd max = 5\n"
     ]
    }
   ],
   "source": [
    "a, b, c = map(int, input(\"a,b,c \").split())\n",
    "if(a<b<c or a>b>c):\n",
    "    print(f\"2nd max = {b}\")\n",
    "elif(b<a<c or b>a>c):\n",
    "    print(f\"2nd max = {a}\")\n",
    "elif(a<c<b or a>c>b):\n",
    "    print(f\"2nd max = {c}\")\n",
    "elif(a==b==c):\n",
    "    print(f\"2nd max = {a}\")"
   ]
  },
  {
   "cell_type": "code",
   "execution_count": 9,
   "id": "cee6bed8",
   "metadata": {},
   "outputs": [
    {
     "name": "stdout",
     "output_type": "stream",
     "text": [
      "center(x1, y1)= 1 2\n",
      "radius: 3.5\n",
      "given a point p2(x1,y2)4.5 2\n",
      "distance(center,p2)=3.5\n",
      "On circle\n"
     ]
    }
   ],
   "source": [
    "x1, y1 = map(int, input(\"center(x1, y1)= \").split())\n",
    "r = float(input(\"radius: \"))\n",
    "x2, y2 = map(float, input(\"given a point p2(x1,y2)\").split())\n",
    "distance = ((x1-x2)**2+(y1-y2)**2)**0.5\n",
    "print(f\"distance(center,p2)={distance}\")\n",
    "if(distance<r):\n",
    "    print(\"Inside circle\")\n",
    "elif(distance==r):\n",
    "    print(\"On circle\")\n",
    "elif(distance>r):\n",
    "    print(\"Outside circle\")"
   ]
  },
  {
   "cell_type": "code",
   "execution_count": 11,
   "id": "aca90226",
   "metadata": {},
   "outputs": [
    {
     "name": "stdout",
     "output_type": "stream",
     "text": [
      "t1=23 10 25\n",
      "t2=1 30 50 \n",
      "t2-t1= 2:20:25\n"
     ]
    }
   ],
   "source": [
    "hour1, min1, sec1 = map(int, input(\"t1=\").split())\n",
    "hour2, min2, sec2= map(int, input(\"t2=\").split())\n",
    "diffhour = hour2 - hour1\n",
    "diffmin = min2 - min1\n",
    "diffsec = sec2 - sec1\n",
    "if(hour2 - hour1<0):\n",
    "    diffhour = hour2 - hour1 + 24\n",
    "if(min2 -min1<0):\n",
    "    diffmin = min2 - min1 + 60\n",
    "if(sec2 -sec1<0):\n",
    "    diffsec = sec2 - sec1 + 60\n",
    "print(f\"t2-t1= {diffhour}:{diffmin}:{diffsec}\")"
   ]
  },
  {
   "cell_type": "code",
   "execution_count": 2,
   "id": "43e43a2b",
   "metadata": {
    "scrolled": true
   },
   "outputs": [
    {
     "name": "stdout",
     "output_type": "stream",
     "text": [
      "x=888\n",
      "3 digits\n",
      "x=-888\n",
      "3 digits\n",
      "x=66666\n",
      "5 digits\n",
      "x=0\n",
      "bye!\n"
     ]
    }
   ],
   "source": [
    "digits = 0\n",
    "while True:\n",
    "    x=int(input(\"x=\"))\n",
    "    if x == 0:\n",
    "        print(\"bye!\")\n",
    "        break\n",
    "    else:\n",
    "        digits=0\n",
    "        if x<0:\n",
    "            x=x*(-1)\n",
    "        while x!=0:\n",
    "            digits+=1\n",
    "            x=x//10\n",
    "            #print(x)\n",
    "        print(f'{digits} digits')"
   ]
  },
  {
   "cell_type": "code",
   "execution_count": null,
   "id": "3db9813a",
   "metadata": {},
   "outputs": [
    {
     "name": "stdout",
     "output_type": "stream",
     "text": [
      "Input two intergers:5 10\n",
      "gcd:5\n"
     ]
    }
   ],
   "source": [
    "while True:\n",
    "    x,y=input(\"Input two intergers:\").split()\n",
    "    x=int(x)\n",
    "    y=int(y)\n",
    "    m=x\n",
    "    n=y\n",
    "    r=m%n\n",
    "    while(r!=0):\n",
    "        m=n\n",
    "        n=r\n",
    "        r=m%n\n",
    "    if n==1:\n",
    "        print(f'{x},{y} is mutually prime, bye!')\n",
    "        break\n",
    "    print(f'gcd:{n}')"
   ]
  }
 ],
 "metadata": {
  "kernelspec": {
   "display_name": "Python 3 (ipykernel)",
   "language": "python",
   "name": "python3"
  },
  "language_info": {
   "codemirror_mode": {
    "name": "ipython",
    "version": 3
   },
   "file_extension": ".py",
   "mimetype": "text/x-python",
   "name": "python",
   "nbconvert_exporter": "python",
   "pygments_lexer": "ipython3",
   "version": "3.9.13"
  }
 },
 "nbformat": 4,
 "nbformat_minor": 5
}
