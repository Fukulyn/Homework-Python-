{
 "cells": [
  {
   "cell_type": "code",
   "execution_count": 1,
   "metadata": {},
   "outputs": [],
   "source": [
    "# Python funcional programming中的3個重要函數: map(), fliter(), reduce()"
   ]
  },
  {
   "cell_type": "code",
   "execution_count": 2,
   "metadata": {},
   "outputs": [],
   "source": [
    "#---map(fun, L):將函數fun應用至L中的每個元素(注意: 姊果並非存於一串列中)---"
   ]
  },
  {
   "cell_type": "code",
   "execution_count": 3,
   "metadata": {},
   "outputs": [],
   "source": [
    "#---------------map()-------------\n",
    "#函式\n",
    "def fun(x): return x**2-x-1\n",
    "data = [1,2,3,4,5]"
   ]
  },
  {
   "cell_type": "code",
   "execution_count": 4,
   "metadata": {},
   "outputs": [
    {
     "name": "stdout",
     "output_type": "stream",
     "text": [
      "[-1, 1, 5, 11, 19]\n"
     ]
    }
   ],
   "source": [
    "#ver.1\n",
    "new_data =[]\n",
    "#for i in range(len(data)):\n",
    "for x in data:\n",
    "    y = fun(x) #int[] a {......}; for(int x:a) {.....}\n",
    "    new_data.append(y)\n",
    "print(new_data)"
   ]
  },
  {
   "cell_type": "code",
   "execution_count": 5,
   "metadata": {},
   "outputs": [
    {
     "name": "stdout",
     "output_type": "stream",
     "text": [
      "[-1, 1, 5, 11, 19]\n"
     ]
    }
   ],
   "source": [
    "#ver.2 (list Comprehension)\n",
    "new_data = [fun(x) for x in data]\n",
    "print(new_data)"
   ]
  },
  {
   "cell_type": "code",
   "execution_count": 6,
   "metadata": {},
   "outputs": [
    {
     "name": "stdout",
     "output_type": "stream",
     "text": [
      "<map object at 0x000001F845EC76D0>\n",
      "-1\n",
      "1\n",
      "5\n",
      "11\n",
      "19\n"
     ]
    }
   ],
   "source": [
    "#ver.3 map()\n",
    "# Q:ver.3比ver.2囉嗦,為何?\n",
    "# 1.無須立即生成串列 萬一是一個有一億個元素序列呢?\n",
    "# 2.可以平行處理\n",
    "mapRlt = map(fun, data) \n",
    "print(mapRlt)\n",
    "for x in mapRlt:\n",
    "    print(x)\n",
    "#print(list(mapRlt))\n",
    "#print(list(mapRlt)) # map object 只能用一次"
   ]
  },
  {
   "cell_type": "code",
   "execution_count": 7,
   "metadata": {},
   "outputs": [
    {
     "name": "stdout",
     "output_type": "stream",
     "text": [
      "[1.8, 2.9, -1.9, -0.7, 2.15]\n"
     ]
    }
   ],
   "source": [
    "#----------------filter()--------------\n",
    "#函式\n",
    "def inRange(x): return x>=-3 and x<=3\n",
    "data = [1.8, 3.5, 2.9, -3.3, -1.9, -0.7, -5.4, 2.15]\n",
    "# ver.1\n",
    "new_data =[]\n",
    "for x in data:\n",
    "    if inRange(x): new_data.append(x)\n",
    "print(new_data)"
   ]
  },
  {
   "cell_type": "code",
   "execution_count": 8,
   "metadata": {},
   "outputs": [
    {
     "name": "stdout",
     "output_type": "stream",
     "text": [
      "[1.8, 2.9, -1.9, -0.7, 2.15]\n"
     ]
    }
   ],
   "source": [
    "# ver.2 (list Comprehension)\n",
    "new_data = [x for x in data if inRange(x)]\n",
    "print(new_data)"
   ]
  },
  {
   "cell_type": "code",
   "execution_count": 9,
   "metadata": {},
   "outputs": [
    {
     "name": "stdout",
     "output_type": "stream",
     "text": [
      "<filter object at 0x000001F845EC7F70>\n",
      "[1.8, 2.9, -1.9, -0.7, 2.15]\n",
      "-----------------------\n",
      "[1.8, 2.9, -1.9, -0.7, 2.15]\n",
      "-----------------------\n",
      "3.24\n",
      "8.41\n",
      "3.61\n",
      "0.48999999999999994\n",
      "4.6225\n"
     ]
    }
   ],
   "source": [
    "# ver.3 filter()\n",
    "filterRlt=filter(inRange,data)\n",
    "print(filterRlt)\n",
    "print(list(filterRlt))\n",
    "print(\"-----------------------\")\n",
    "filterRlt=filter(inRange,data)\n",
    "print(list(filterRlt))\n",
    "print(\"-----------------------\")\n",
    "filterRlt=filter(inRange,data)\n",
    "for x in filterRlt:\n",
    "    print(x**2)\n",
    "\n"
   ]
  },
  {
   "cell_type": "code",
   "execution_count": 10,
   "metadata": {},
   "outputs": [
    {
     "name": "stdout",
     "output_type": "stream",
     "text": [
      "209\n"
     ]
    }
   ],
   "source": [
    "#---------------reduce()--------------\n",
    "#函式\n",
    "from functools import reduce\n",
    "data = [18, 22, 8, 28, 32, 57, 44] # -> sumUp(data)\n",
    "# ver.1\n",
    "total = 0\n",
    "for x in data:\n",
    "    total = total + x\n",
    "print(total)\n",
    "\n",
    "\n"
   ]
  },
  {
   "cell_type": "code",
   "execution_count": 11,
   "metadata": {},
   "outputs": [
    {
     "name": "stdout",
     "output_type": "stream",
     "text": [
      "[18, 40, 48, 76, 108, 165, 209]\n",
      "209\n"
     ]
    }
   ],
   "source": [
    "# ver.2 (list Comprehension)\n",
    "total = 0\n",
    "L = [ total:=total + x for x in data]\n",
    "print(L)\n",
    "print(total)"
   ]
  },
  {
   "cell_type": "code",
   "execution_count": 12,
   "metadata": {},
   "outputs": [
    {
     "name": "stdout",
     "output_type": "stream",
     "text": [
      "209\n"
     ]
    }
   ],
   "source": [
    "# ver.3 reduce()\n",
    "def add(a,b): return a+b \n",
    "# 0+18 -> 18, 18+22->40, 40+8->48......->209\n",
    "#total = reduce(add, data, 0)\n",
    "# (((0 + data[0])+ data[1])+ data[2]).......(累加上去)\n",
    "total = reduce(lambda a,b:a+b, data, 0)\n",
    "print(total) "
   ]
  },
  {
   "cell_type": "code",
   "execution_count": 23,
   "metadata": {},
   "outputs": [
    {
     "name": "stdout",
     "output_type": "stream",
     "text": [
      "7119028224\n"
     ]
    }
   ],
   "source": [
    "#-----累乘data中的數字-----\n",
    "total = reduce(lambda a,b:a*b, data,1)\n",
    "print(total)\n"
   ]
  },
  {
   "cell_type": "code",
   "execution_count": 14,
   "metadata": {},
   "outputs": [
    {
     "name": "stdout",
     "output_type": "stream",
     "text": [
      "[18, 22, 8, 28, 32, 57, 44]\n",
      "[42.426406871192846, 46.9041575982343, 28.284271247461902, 52.91502622129181, 56.568542494923804, 75.4983443527075, 66.33249580710799]\n",
      "368.92924459292016\n"
     ]
    }
   ],
   "source": [
    "data = [18,22,-1,8,28,32,-1,57,44]\n",
    "def pos(x)->bool: return x>=0\n",
    "def add(x,y) : return x+y\n",
    "def trans(x): return x**0.5*10\n",
    "\n",
    "L1 = list(filter(pos, data))\n",
    "print(L1)\n",
    "L2 = list(map(trans, L1))\n",
    "print(L2)\n",
    "total = reduce(add,L2,0)\n",
    "print(total)"
   ]
  },
  {
   "cell_type": "code",
   "execution_count": 15,
   "metadata": {},
   "outputs": [
    {
     "name": "stdout",
     "output_type": "stream",
     "text": [
      "[42.426406871192846, 46.9041575982343, 28.284271247461902, 52.91502622129181, 56.568542494923804, 75.4983443527075, 66.33249580710799]\n",
      "368.92924459292016\n"
     ]
    }
   ],
   "source": [
    "L2 = list(map(trans, filter(pos, data)))\n",
    "print(L2)\n",
    "total = reduce(add, map(trans, filter(pos, data)),0)\n",
    "print(total)\n"
   ]
  },
  {
   "cell_type": "code",
   "execution_count": 16,
   "metadata": {},
   "outputs": [
    {
     "name": "stdout",
     "output_type": "stream",
     "text": [
      "call fac(5)\n",
      "call fac(4)\n",
      "call fac(3)\n",
      "call fac(2)\n",
      "call fac(1)\n",
      "call fac(0)\n",
      "120\n"
     ]
    }
   ],
   "source": [
    "#------遞迴(recursion)--------\n",
    "def fac(n:int)->int: #計算n!\n",
    "    print(f'call fac({n})') #0! = 1\n",
    "    if n==0: return 1\n",
    "    return n*fac(n-1)\n",
    "print(fac(5)) #120"
   ]
  },
  {
   "cell_type": "code",
   "execution_count": 17,
   "metadata": {},
   "outputs": [
    {
     "name": "stdout",
     "output_type": "stream",
     "text": [
      "5050\n"
     ]
    }
   ],
   "source": [
    "def sumUp(n):\n",
    "    if n==1: return 1\n",
    "    return n+sumUp(n-1)\n",
    "print(sumUp(100)) #5050"
   ]
  },
  {
   "cell_type": "code",
   "execution_count": 18,
   "metadata": {},
   "outputs": [
    {
     "name": "stdout",
     "output_type": "stream",
     "text": [
      "10.0\n"
     ]
    }
   ],
   "source": [
    "import math\n",
    "def cnk(n,k):\n",
    "    return math.factorial(n)/(math.factorial(k)*math.factorial(n-k))\n",
    "print(cnk(5,3))"
   ]
  },
  {
   "cell_type": "code",
   "execution_count": 19,
   "metadata": {},
   "outputs": [
    {
     "name": "stdout",
     "output_type": "stream",
     "text": [
      "6\n"
     ]
    }
   ],
   "source": [
    "import math\n",
    "def c(n,k):\n",
    "    #base case\n",
    "    if k==0 or k==1: return 1\n",
    "    if k>n: return 0\n",
    "    #induction\n",
    "    return c(n-1,k-1)+c(n-1,k)\n",
    "print(c(5,3)) #10"
   ]
  },
  {
   "cell_type": "code",
   "execution_count": 20,
   "metadata": {},
   "outputs": [
    {
     "name": "stdout",
     "output_type": "stream",
     "text": [
      "1 3 5 7 9 \n"
     ]
    }
   ],
   "source": [
    "def printList(a:list, start:int) -> None:\n",
    "    #=== base case\n",
    "    if start == len(a): #已到串列末尾\n",
    "        print()\n",
    "        return\n",
    "    # === induction ===\n",
    "    print(a[start], end=' ')\n",
    "    printList (a, start+1)\n",
    "\n",
    "L= [1, 3, 5, 7, 9]\n",
    "#for i in range(len(L)):\n",
    "    #print(L[i], end=' ')\n",
    "#print()\n",
    "printList(L, 0)"
   ]
  },
  {
   "cell_type": "code",
   "execution_count": 21,
   "metadata": {},
   "outputs": [
    {
     "name": "stdout",
     "output_type": "stream",
     "text": [
      "1080453 -> 7\n"
     ]
    }
   ],
   "source": [
    "def noOfDigit(n):\n",
    "    #base case\n",
    "    if n<10: return 1\n",
    "    #induction\n",
    "    return 1 +noOfDigit((int)(n/10))\n",
    "print(1080453, '->', noOfDigit(1080453))"
   ]
  }
 ],
 "metadata": {
  "kernelspec": {
   "display_name": "base",
   "language": "python",
   "name": "python3"
  },
  "language_info": {
   "codemirror_mode": {
    "name": "ipython",
    "version": 3
   },
   "file_extension": ".py",
   "mimetype": "text/x-python",
   "name": "python",
   "nbconvert_exporter": "python",
   "pygments_lexer": "ipython3",
   "version": "3.9.13"
  },
  "orig_nbformat": 4
 },
 "nbformat": 4,
 "nbformat_minor": 2
}
