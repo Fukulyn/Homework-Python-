{
 "cells": [
  {
   "cell_type": "code",
   "execution_count": 2,
   "metadata": {},
   "outputs": [
    {
     "name": "stdout",
     "output_type": "stream",
     "text": [
      "       c0  c1  c2   rowSum\n",
      "r1     1   2   3     6\n",
      "r2     4   5   6    15\n",
      "r3     7   8   9    24\n",
      "colSum 12  15  18   45\n"
     ]
    }
   ],
   "source": [
    "m = [[1,2,3], [4,5,6], [7,8,9]]\n",
    "print(\"%9s%4s%4s%9s\"%(\"c0\",\"c1\",\"c2\",\"rowSum\"))\n",
    "row_sum = [sum(row) for row in m]\n",
    "col_sum = [0] * len(m[0])\n",
    "for row in m:\n",
    "    for i in range(len(row)):\n",
    "        col_sum[i] += row[i]\n",
    "for i in range(len(m)):\n",
    "    print(f\"r{i+1}    {m[i][0]:>2}  {m[i][1]:>2}  {m[i][2]:>2}    {row_sum[i]:>2}\")    \n",
    "print(f\"colSum {col_sum[0]:>2}  {col_sum[1]:>2}  {col_sum[2]:>2}  {sum(col_sum):>3}\")"
   ]
  },
  {
   "cell_type": "code",
   "execution_count": 1,
   "metadata": {},
   "outputs": [
    {
     "name": "stdout",
     "output_type": "stream",
     "text": [
      "[1, 2]\n",
      "[3, 4, 5, 6]\n",
      "[7, 8, 9]\n"
     ]
    }
   ],
   "source": [
    "eleNo = [2,4,3]\n",
    "m=[]\n",
    "cnt = 1\n",
    "for i in range(len(eleNo)):#列\n",
    "    m.append([])\n",
    "    for j in range(eleNo[i]):#欄\n",
    "        m[i].append(cnt)\n",
    "        cnt+=1\n",
    "    print(m[i])"
   ]
  },
  {
   "cell_type": "code",
   "execution_count": 1,
   "metadata": {},
   "outputs": [
    {
     "name": "stdout",
     "output_type": "stream",
     "text": [
      "1班平均分數:52.27\n",
      "2班平均分數:62.19\n",
      "3班平均分數:51.90\n",
      "4班平均分數:52.17\n",
      "總平均:54.15\n"
     ]
    }
   ],
   "source": [
    "import random\n",
    "random.seed(111)\n",
    "stud_no = [56, 43, 49, 65]\n",
    "scores = []\n",
    "for i in range(len(stud_no)):\n",
    "    class_scores = []\n",
    "    for j in range(stud_no[i]):\n",
    "        class_scores.append(random.randint(0, 100))\n",
    "    scores.append(class_scores)\n",
    "class_averages = []\n",
    "for i in range(len(stud_no)):\n",
    "    class_average = sum(scores[i]) / stud_no[i]\n",
    "    class_averages.append(class_average)\n",
    "    print(f\"{i+1}班平均分數:{class_average:.2f}\")\n",
    "\n",
    "total_average = sum(sum(scores, [])) / sum(stud_no)\n",
    "print(f\"總平均:{total_average:.2f}\")"
   ]
  },
  {
   "cell_type": "code",
   "execution_count": 7,
   "metadata": {},
   "outputs": [
    {
     "name": "stdout",
     "output_type": "stream",
     "text": [
      "[[2, 4, 6, 8], [10, 12, 14, 16], [18, 20, 22, 24]]\n",
      "[[1, 5, 9], [2, 6, 10], [3, 7, 11], [4, 8, 12]]\n",
      "[[30, 70, 110], [70, 174, 278], [110, 278, 446]]\n"
     ]
    }
   ],
   "source": [
    "m1 = [[1,2,3,4],[5,6,7,8],[9,10,11,12]]\n",
    "m2 = [list(row) for row in m1]\n",
    "for i in range(len(m1)):\n",
    "    for j in range(len(m1[0])):\n",
    "        m2[i][j] += m1[i][j]\n",
    "m3 = [[row[i] for row in m1] for i in range(len(m1[0]))]\n",
    "m4 = [[sum(x * y for x, y in zip(row1, row2)) for row2 in zip(*m3)] for row1 in m1]\n",
    "print(m2,m3,m4,sep=\"\\n\")"
   ]
  }
 ],
 "metadata": {
  "kernelspec": {
   "display_name": "Python 3",
   "language": "python",
   "name": "python3"
  },
  "language_info": {
   "codemirror_mode": {
    "name": "ipython",
    "version": 3
   },
   "file_extension": ".py",
   "mimetype": "text/x-python",
   "name": "python",
   "nbconvert_exporter": "python",
   "pygments_lexer": "ipython3",
   "version": "3.10.4"
  },
  "orig_nbformat": 4
 },
 "nbformat": 4,
 "nbformat_minor": 2
}
