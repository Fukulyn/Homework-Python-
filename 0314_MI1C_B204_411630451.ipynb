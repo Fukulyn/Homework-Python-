{
 "cells": [
  {
   "cell_type": "code",
   "execution_count": 1,
   "id": "56f9ca66",
   "metadata": {},
   "outputs": [
    {
     "name": "stdout",
     "output_type": "stream",
     "text": [
      "CMD> cir\n"
     ]
    },
    {
     "ename": "TypeError",
     "evalue": "object of type 'builtin_function_or_method' has no len()",
     "output_type": "error",
     "traceback": [
      "\u001b[1;31m---------------------------------------------------------------------------\u001b[0m",
      "\u001b[1;31mTypeError\u001b[0m                                 Traceback (most recent call last)",
      "\u001b[1;32m~\\AppData\\Local\\Temp\\ipykernel_10112\\1211831582.py\u001b[0m in \u001b[0;36m<module>\u001b[1;34m\u001b[0m\n\u001b[0;32m      1\u001b[0m \u001b[0mcmdStr\u001b[0m \u001b[1;33m=\u001b[0m \u001b[0minput\u001b[0m\u001b[1;33m(\u001b[0m\u001b[1;34m\"CMD> \"\u001b[0m\u001b[1;33m)\u001b[0m\u001b[1;33m.\u001b[0m\u001b[0msplit\u001b[0m\u001b[1;33m\u001b[0m\u001b[1;33m\u001b[0m\u001b[0m\n\u001b[1;32m----> 2\u001b[1;33m \u001b[0mprint\u001b[0m\u001b[1;33m(\u001b[0m\u001b[0mlen\u001b[0m\u001b[1;33m(\u001b[0m\u001b[0mcmdStr\u001b[0m\u001b[1;33m)\u001b[0m\u001b[1;33m)\u001b[0m\u001b[1;33m\u001b[0m\u001b[1;33m\u001b[0m\u001b[0m\n\u001b[0m\u001b[0;32m      3\u001b[0m \u001b[1;32mif\u001b[0m \u001b[0mcmdStr\u001b[0m\u001b[1;33m[\u001b[0m\u001b[1;36m0\u001b[0m\u001b[1;33m]\u001b[0m\u001b[1;33m==\u001b[0m\u001b[1;34m\"cir\"\u001b[0m\u001b[1;33m:\u001b[0m\u001b[1;33m\u001b[0m\u001b[1;33m\u001b[0m\u001b[0m\n\u001b[0;32m      4\u001b[0m     \u001b[1;32mpass\u001b[0m\u001b[1;33m\u001b[0m\u001b[1;33m\u001b[0m\u001b[0m\n\u001b[0;32m      5\u001b[0m \u001b[1;32melif\u001b[0m \u001b[0mcmdStr\u001b[0m\u001b[1;33m[\u001b[0m\u001b[1;36m1\u001b[0m\u001b[1;33m]\u001b[0m \u001b[1;33m==\u001b[0m \u001b[1;34m\"rect\"\u001b[0m\u001b[1;33m:\u001b[0m\u001b[1;33m\u001b[0m\u001b[1;33m\u001b[0m\u001b[0m\n",
      "\u001b[1;31mTypeError\u001b[0m: object of type 'builtin_function_or_method' has no len()"
     ]
    }
   ],
   "source": [
    "cmdStr = input(\"CMD> \").split\n",
    "print(len(cmdStr))\n",
    "if cmdStr[0]==\"cir\":\n",
    "    pass\n",
    "elif cmdStr[1] == \"rect\":\n",
    "    pass\n",
    "elif cmdStr[2] == \"trapz\":\n",
    "    pass\n",
    "else:\n",
    "    print(\"Error command!\")"
   ]
  },
  {
   "cell_type": "code",
   "execution_count": 4,
   "id": "23bae8fd",
   "metadata": {
    "scrolled": true
   },
   "outputs": [
    {
     "name": "stdout",
     "output_type": "stream",
     "text": [
      "Hello Hello Hello Hello Hello Hello Hello Hello Hello Hello 11\n"
     ]
    }
   ],
   "source": [
    "cnt = 1 # 0:cs 習慣從0開始\n",
    "while cnt<=10: # watch dog\n",
    "    print(\"Hello\" ,end=' ')\n",
    "    cnt = cnt + 1 #計數器更新\n",
    "\n",
    "print(cnt)"
   ]
  },
  {
   "cell_type": "code",
   "execution_count": 11,
   "id": "8b18fd49",
   "metadata": {
    "scrolled": true
   },
   "outputs": [
    {
     "name": "stdout",
     "output_type": "stream",
     "text": [
      "10 9 8 7 6 5 4 3 2 1 0 \n"
     ]
    }
   ],
   "source": [
    "cnt = 10\n",
    "while cnt>=0:\n",
    "    print(cnt,end=\" \")\n",
    "    cnt = cnt - 1\n",
    "print()"
   ]
  },
  {
   "cell_type": "code",
   "execution_count": 8,
   "id": "4af38f8b",
   "metadata": {},
   "outputs": [
    {
     "name": "stdout",
     "output_type": "stream",
     "text": [
      "100 97 94 91 88 85 82 79 76 73 70 67 64 61 58 55 52 49 46 43 40 37 34 31 28 25 22 19 16 13 10 7 4 1 \n"
     ]
    }
   ],
   "source": [
    "cnt = 100\n",
    "while cnt>=0:\n",
    "    print(cnt,end=\" \")\n",
    "    cnt = cnt - 3\n",
    "print()"
   ]
  },
  {
   "cell_type": "code",
   "execution_count": 22,
   "id": "b9e940a6",
   "metadata": {
    "scrolled": true
   },
   "outputs": [
    {
     "name": "stdout",
     "output_type": "stream",
     "text": [
      "avg= 38.0\n",
      "10\n"
     ]
    }
   ],
   "source": [
    "import random \n",
    "cnt = 1  # 1,2,.....,10 0,1,2,3......,9\n",
    "total = 0\n",
    "while cnt<10:\n",
    "    x = random.randint(0,100)\n",
    "    total = total + x\n",
    "    cnt +=1\n",
    "print(\"avg=\",total/cnt)\n",
    "print(cnt)"
   ]
  },
  {
   "cell_type": "code",
   "execution_count": 1,
   "id": "9eeeea38",
   "metadata": {
    "scrolled": false
   },
   "outputs": [
    {
     "name": "stdout",
     "output_type": "stream",
     "text": [
      "Input n:100\n",
      "81.0\n"
     ]
    }
   ],
   "source": [
    "n = int(input(\"Input n:\"))\n",
    "product = 1\n",
    "while product<=n:\n",
    "    product = product*3\n",
    "print(product/3)"
   ]
  },
  {
   "cell_type": "code",
   "execution_count": 2,
   "id": "bfd1ad09",
   "metadata": {},
   "outputs": [
    {
     "name": "stdout",
     "output_type": "stream",
     "text": [
      "Input Score:50\n",
      "1 50\n",
      "Input Score:55\n",
      "2 55\n",
      "Input Score:55\n",
      "3 55\n",
      "Input Score:66\n",
      "4 66\n",
      "Input Score:66\n",
      "5 66\n",
      "6\n",
      "48.666666666666664\n"
     ]
    }
   ],
   "source": [
    "studNo = 5\n",
    "cnt = 1\n",
    "total = 0\n",
    "while cnt<=studNo:\n",
    "    score = int(input(\"Input Score:\"))\n",
    "    print(cnt,score)\n",
    "    total = total + score\n",
    "    cnt +=1\n",
    "print(cnt)\n",
    "print(total/cnt)"
   ]
  },
  {
   "cell_type": "code",
   "execution_count": null,
   "id": "27181b66",
   "metadata": {},
   "outputs": [],
   "source": []
  }
 ],
 "metadata": {
  "kernelspec": {
   "display_name": "Python 3 (ipykernel)",
   "language": "python",
   "name": "python3"
  },
  "language_info": {
   "codemirror_mode": {
    "name": "ipython",
    "version": 3
   },
   "file_extension": ".py",
   "mimetype": "text/x-python",
   "name": "python",
   "nbconvert_exporter": "python",
   "pygments_lexer": "ipython3",
   "version": "3.9.13"
  }
 },
 "nbformat": 4,
 "nbformat_minor": 5
}
