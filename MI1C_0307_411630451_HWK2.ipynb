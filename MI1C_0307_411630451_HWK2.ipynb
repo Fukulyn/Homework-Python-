{
 "cells": [
  {
   "cell_type": "code",
   "execution_count": 14,
   "id": "15825390",
   "metadata": {},
   "outputs": [
    {
     "name": "stdout",
     "output_type": "stream",
     "text": [
      "Input student ID:108523028\n",
      "研究所\n",
      "入學年份:108 系所代碼:523 入學名次:28\n"
     ]
    }
   ],
   "source": [
    "id = int(input(\"Input student ID:\"))\n",
    "degree = id%100000//10000\n",
    "if(degree==0):\n",
    "    print(\"大學部\")\n",
    "elif(degree==2):\n",
    "    print(\"研究所\")\n",
    "year = id//1000000\n",
    "dep = id%1000000//1000\n",
    "rank = id%100\n",
    "print(f\"入學年份:{year} 系所代碼:{dep} 入學名次:{rank}\")"
   ]
  },
  {
   "cell_type": "code",
   "execution_count": 5,
   "id": "5d4cfdbc",
   "metadata": {},
   "outputs": [
    {
     "name": "stdout",
     "output_type": "stream",
     "text": [
      "輸入三角形三邊長2 2 4\n",
      "illegal triangle\n"
     ]
    }
   ],
   "source": [
    "a,b,c = map(int,input(\"輸入三角形三邊長\").split())\n",
    "if(a+b>c and a+c>b and b+c>a):\n",
    "    s = (a+b+c) / 2\n",
    "    area = (s*(s-a)*(s-b)*(s-c))**0.5\n",
    "    print(f\"area={area}\")\n",
    "else:\n",
    "    print(\"illegal triangle\")"
   ]
  },
  {
   "cell_type": "code",
   "execution_count": 16,
   "id": "0bb75557",
   "metadata": {},
   "outputs": [
    {
     "name": "stdout",
     "output_type": "stream",
     "text": [
      "輸入成績:99\n",
      "Excellent\n"
     ]
    }
   ],
   "source": [
    "score = int(input(\"輸入成績:\"))\n",
    "if(score>=80 and score<=100):\n",
    "    print(\"Excellent\")\n",
    "elif(score>=60 and score<=79):\n",
    "    print(\"Good\")\n",
    "elif(score>=50 and score<=59):\n",
    "    print(\"Marginal\")\n",
    "elif(score>=0 and score<=49):\n",
    "    print(\"Try again\")\n",
    "else:\n",
    "    print(\"Error\")"
   ]
  },
  {
   "cell_type": "code",
   "execution_count": 5,
   "id": "58474378",
   "metadata": {
    "scrolled": true
   },
   "outputs": [
    {
     "name": "stdout",
     "output_type": "stream",
     "text": [
      "Input the score of 3 tests:60 59 60\n",
      "60 59 60\n",
      "Pass\n"
     ]
    }
   ],
   "source": [
    "a,b,c = input(\"Input the score of 3 tests:\").split()\n",
    "test1,test2,test3 = int(a),int(b),int(c)\n",
    "print(test1,test2,test3)\n",
    "if(test1>=60 and test2>=60):\n",
    "    print(\"Pass\")\n",
    "elif(test1>=60 and test2>=60):\n",
    "    print(\"Pass\")\n",
    "elif(test3>=60 and test2>=60):\n",
    "    print(\"Pass\")\n",
    "elif(test3>=60 and test1>=60):\n",
    "    print(\"Pass\")\n",
    "else:\n",
    "    print(\"Try again\")"
   ]
  },
  {
   "cell_type": "code",
   "execution_count": 14,
   "id": "964ad6e9",
   "metadata": {
    "scrolled": true
   },
   "outputs": [
    {
     "name": "stdout",
     "output_type": "stream",
     "text": [
      "CMD>trapz 3 9 4\n",
      "area=( 3 + 9 )* 4 /2= 24.0\n"
     ]
    }
   ],
   "source": [
    "list = input(\"CMD>\").split()\n",
    "if(list[0]==\"cir\"):\n",
    "    b = list[1]\n",
    "    b = float(b)\n",
    "    area = b*b*3.14\n",
    "    print(\"area=\",b,\"*\",b,\"*3.14=\",area)\n",
    "elif(list[0]==\"rect\"):\n",
    "    b = list[1]\n",
    "    c = list[2]\n",
    "    b = int(b)\n",
    "    c = int(c)\n",
    "    area = b*c\n",
    "    print(\"area=\",b,\"*\",c,\"=\",area)\n",
    "elif(list[0]==\"trapz\"):\n",
    "    b = list[1]\n",
    "    c = list[2]\n",
    "    d = list[3]\n",
    "    b = int(b)\n",
    "    c = int(c)\n",
    "    d = int(d)\n",
    "    area = ((b+c)*d)/2 \n",
    "    print(\"area=(\",b,\"+\",c,\")*\",d,\"/2=\",area)\n",
    "else:\n",
    "    print(\"error\")"
   ]
  },
  {
   "cell_type": "code",
   "execution_count": null,
   "id": "67aaf3e5",
   "metadata": {},
   "outputs": [],
   "source": []
  }
 ],
 "metadata": {
  "kernelspec": {
   "display_name": "Python 3 (ipykernel)",
   "language": "python",
   "name": "python3"
  },
  "language_info": {
   "codemirror_mode": {
    "name": "ipython",
    "version": 3
   },
   "file_extension": ".py",
   "mimetype": "text/x-python",
   "name": "python",
   "nbconvert_exporter": "python",
   "pygments_lexer": "ipython3",
   "version": "3.9.13"
  }
 },
 "nbformat": 4,
 "nbformat_minor": 5
}
