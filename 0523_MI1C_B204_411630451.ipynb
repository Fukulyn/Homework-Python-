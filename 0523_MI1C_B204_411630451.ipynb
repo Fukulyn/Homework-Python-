{
 "cells": [
  {
   "cell_type": "code",
   "execution_count": 2,
   "metadata": {},
   "outputs": [
    {
     "name": "stdout",
     "output_type": "stream",
     "text": [
      "area() for 3 4 5\n",
      "area() for 3 4 5\n",
      "area() for 3 4 5\n",
      "area() for 3 4 5\n",
      "6.0\n"
     ]
    }
   ],
   "source": [
    "def area(a:float, b:float, c:float, show:bool): #parameter的名稱不可亂取\n",
    "    if show: print(\"area() for\", a, b, c)\n",
    "    s =(a+b+c)/2\n",
    "    return (s*(s-a)*(s-b)*(s-c))**0.5\n",
    "\n",
    "#呼叫函數時, 使用keyword argument/named argument\n",
    "area(3,4,5,True)#3->a=, 4->b, 5->c, True->show, positional arguments\n",
    "a = area(a=3,b=4,c=5,show=True)# call by keyword arguments\n",
    "a = area(c=5, b=4, a=3, show=True)# keyword arguments 次序不拘\n",
    "a = area(3,4,show=True, c=5) #3->a, 4->b, .....positional arguments + keyword arguments\n",
    "print(a)"
   ]
  },
  {
   "cell_type": "code",
   "execution_count": null,
   "metadata": {},
   "outputs": [],
   "source": [
    "# Wrong argument placement\n",
    "#area(a=3,b=4,5,True) #5->c, True->show\n",
    "area(3,4,show=True, b=4) "
   ]
  },
  {
   "cell_type": "code",
   "execution_count": 13,
   "metadata": {},
   "outputs": [
    {
     "name": "stdout",
     "output_type": "stream",
     "text": [
      "area() for 8 12 5\n",
      "area() for 8 12 5\n",
      "area() for 8 12 5\n",
      "14.52\n"
     ]
    }
   ],
   "source": [
    "#Part2: 定義函數時使用 default argument values\n",
    "def area2(a, b, c, show=True, roundNo=3): #parameter的名稱不可亂取\n",
    "    if show: print(\"area() for\", a, b, c)\n",
    "    s =(a+b+c)/2\n",
    "    return round((s*(s-a)*(s-b)*(s-c))**0.5, roundNo)\n",
    "\n",
    "a = area2(8, 12, 5)# 8->a, 12->b, 5->c, show??, roundNo\n",
    "a = area2(a=8, b=12, c=5)\n",
    "a = area2(a=8, b=12, c=5, show=False, roundNo=2)\n",
    "a = area2(8, 12, 5,roundNo=2)\n",
    "print(a)\n"
   ]
  },
  {
   "cell_type": "code",
   "execution_count": 22,
   "metadata": {},
   "outputs": [
    {
     "name": "stdout",
     "output_type": "stream",
     "text": [
      "['Taipei']\n",
      "['Taipei', 'London']\n",
      "['Taipei', 'London', 'Washington']\n",
      "['Taipei']\n",
      "['Taipei'] ['London']\n",
      "['Taipei'] ['London'] ['Washington']\n"
     ]
    }
   ],
   "source": [
    "def addBuffer(a, buf=[]): # []物件只會生成一次\n",
    "    buf+=[a]\n",
    "    return buf\n",
    "\n",
    "L1=addBuffer(\"Taipei\")\n",
    "print(L1)\n",
    "L2=addBuffer(\"London\")\n",
    "print(L2)\n",
    "L3=addBuffer(\"Washington\")\n",
    "print(L3)\n",
    "\n",
    "#-------------------------------------------------\n",
    "\n",
    "def addBuffer(a, buf=None):\n",
    "    if buf==None: buf=[]\n",
    "    buf+=[a]\n",
    "    return buf\n",
    "\n",
    "L1=addBuffer(\"Taipei\")\n",
    "print(L1)\n",
    "L2=addBuffer(\"London\")\n",
    "print(L1,L2)\n",
    "L3=addBuffer(\"Washington\")\n",
    "print(L1,L2,L3)"
   ]
  },
  {
   "cell_type": "code",
   "execution_count": 24,
   "metadata": {},
   "outputs": [
    {
     "name": "stdout",
     "output_type": "stream",
     "text": [
      "<class 'tuple'>\n",
      "6210\n",
      "<class 'tuple'>\n",
      "-273240\n"
     ]
    }
   ],
   "source": [
    "#可接受不定數量引數的函數\n",
    "def mulAll(*args): # area(a,b,c) rectArea(w,h)\n",
    "    print(type(args))\n",
    "    rlt = 1\n",
    "    for x in args:# args is a tuple or list?????\n",
    "        rlt *= x\n",
    "    return rlt\n",
    "\n",
    "print(mulAll(15, 18, 23)) #\n",
    "print(mulAll(15, 18, 23, 44, -1))"
   ]
  },
  {
   "cell_type": "code",
   "execution_count": 28,
   "metadata": {},
   "outputs": [
    {
     "name": "stdout",
     "output_type": "stream",
     "text": [
      "[1, 2, 3, 5, 7, 1, 2, 3, 5, 7]\n"
     ]
    }
   ],
   "source": [
    "def pos(*args): # arguments -> args\n",
    "    rlt = []\n",
    "    #DIY here\n",
    "    \n",
    "    #1\n",
    "    for x in args:\n",
    "        if x>=0: rlt.append(x)\n",
    "    #2\n",
    "    for i in range(len(args)):\n",
    "        if args[i]>=0:\n",
    "           rlt.append(args[i])\n",
    "    return rlt\n",
    "\n",
    "pL = pos(1,2,3,-4,5,-6,7)\n",
    "print(pL)"
   ]
  },
  {
   "cell_type": "code",
   "execution_count": 3,
   "metadata": {},
   "outputs": [
    {
     "name": "stdout",
     "output_type": "stream",
     "text": [
      "<class 'function'>\n",
      "6.0\n",
      "--------------------------------\n",
      "<class 'function'>\n",
      "17.5\n"
     ]
    }
   ],
   "source": [
    "# function object\n",
    "def triangle_area(L): # L[0]:a, L[1]:b, L[2]:c \n",
    "    s = (L[0]+L[1]+L[2])/2 # sum(L[:3]/2)\n",
    "    return (s*(s-L[0])*(s-L[1])*(s-L[2]))**0.5\n",
    "\n",
    "def trapozoid_area(L):\n",
    "    return (L[0]+L[1])*L[2]/2\n",
    "\n",
    "\n",
    "L = [3,4,5]\n",
    "#print(triangle_area(L))\n",
    "\n",
    "myarea = triangle_area\n",
    "print(type(myarea))\n",
    "print(myarea(L))\n",
    "print(\"--------------------------------\")\n",
    "myarea = trapozoid_area\n",
    "print(type(myarea))\n",
    "print(myarea(L))"
   ]
  },
  {
   "cell_type": "code",
   "execution_count": 6,
   "metadata": {},
   "outputs": [
    {
     "name": "stdout",
     "output_type": "stream",
     "text": [
      "6.0\n",
      "60.0\n",
      "6.0\n",
      "17.5\n"
     ]
    }
   ],
   "source": [
    "area_fun_list = [triangle_area,trapozoid_area]\n",
    "paras = [[3,4,5],[8,12,6]]\n",
    "L = [3 ,4 ,5]\n",
    "for i in range(len(area_fun_list)):\n",
    "    print(area_fun_list[i](paras[i]))\n",
    "\n",
    "for fun in area_fun_list:\n",
    "    print(fun(L))"
   ]
  },
  {
   "cell_type": "code",
   "execution_count": 6,
   "metadata": {},
   "outputs": [
    {
     "name": "stdout",
     "output_type": "stream",
     "text": [
      "add() ,sub() 5.8, -0.7999999999999998\n"
     ]
    }
   ],
   "source": [
    "#general\n",
    "def cal(x1,x2,fun):\n",
    "    return fun(x1,x2)\n",
    "\n",
    "#specific operation\n",
    "def add(x1,x2): return x1+x2\n",
    "def sub(x1,x2): return x1-x2\n",
    "\n",
    "x1=2.5\n",
    "x2=3.3\n",
    "v1=cal(x1,x2,add) #將函數物件作為引數傳遞給fun函數\n",
    "v2=cal(x1,x2,sub)\n",
    "print(f'add() sub() {v1} {v2}')"
   ]
  },
  {
   "cell_type": "code",
   "execution_count": null,
   "metadata": {},
   "outputs": [],
   "source": [
    "#HW(作業)\n",
    "def rectArea(L):\n",
    "    return 0\n",
    "def circleArea(L):\n",
    "    return 0\n",
    "def triangleArea(a, b, c):\n",
    "    return 0\n",
    "\n",
    "# Area Calculation (1) Rect (2) Triangle (3) Circle (4) Exit: 2\n",
    "\n",
    "def main(): \n",
    "    no = int(input(\"Area Calculation (1) Rect (2) Triangle (3) Circle (4) Exit:\"))\n",
    "    msg = [\"\",\"input w,h:\",\"input a,b,c\", \"input r:\"]    \n",
    "    fun_list = [None, rectArea, triangleArea, circleArea]\n",
    "    if no==1:\n",
    "        pass\n",
    "    elif no==2:\n",
    "        pass\n",
    "    elif no==3:\n",
    "        pass\n",
    "    elif no==4:\n",
    "        pass\n",
    "    else:\n",
    "        pass\n",
    "\n",
    "main()"
   ]
  },
  {
   "cell_type": "code",
   "execution_count": 9,
   "metadata": {},
   "outputs": [
    {
     "name": "stdout",
     "output_type": "stream",
     "text": [
      "[0, 2, 8, 18]\n"
     ]
    }
   ],
   "source": [
    "#lambda 匿名函數\n",
    "def apply(data, fun):\n",
    "    return [fun(x) for x in data]\n",
    "\n",
    "def shift(x): return 2*x**2-4*x+2\n",
    "mydata = [1,2,3,4]\n",
    "#newdata = apply(mydata,shift)\n",
    "#newdata = apply(mydata, lambda x:x**3-2*x**2+10)\n",
    "print(newdata) #[0, 2, 8, 18]"
   ]
  }
 ],
 "metadata": {
  "kernelspec": {
   "display_name": "base",
   "language": "python",
   "name": "python3"
  },
  "language_info": {
   "codemirror_mode": {
    "name": "ipython",
    "version": 3
   },
   "file_extension": ".py",
   "mimetype": "text/x-python",
   "name": "python",
   "nbconvert_exporter": "python",
   "pygments_lexer": "ipython3",
   "version": "3.9.13"
  },
  "orig_nbformat": 4
 },
 "nbformat": 4,
 "nbformat_minor": 2
}
