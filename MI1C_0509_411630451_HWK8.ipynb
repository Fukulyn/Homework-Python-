{
 "cells": [
  {
   "cell_type": "code",
   "execution_count": 35,
   "metadata": {},
   "outputs": [
    {
     "name": "stdout",
     "output_type": "stream",
     "text": [
      "area = 6.0\n"
     ]
    }
   ],
   "source": [
    "#P.58,Ex1\n",
    "def triangleArea(a:float,b:float,c:float)->float:\n",
    "    s = (a+b+c)/2\n",
    "    area = (s*(s-a)*(s-b)*(s-c))**0.5\n",
    "    return area\n",
    "#-----main()-----\n",
    "a,b,c=3,4,5\n",
    "area = triangleArea(a,b,c)\n",
    "print(\"area =\",area)"
   ]
  },
  {
   "cell_type": "code",
   "execution_count": 36,
   "metadata": {},
   "outputs": [
    {
     "name": "stdout",
     "output_type": "stream",
     "text": [
      "2.5 ** 3 = 15.625\n"
     ]
    }
   ],
   "source": [
    "#P.58,Ex2\n",
    "def myPower(x:float,y:float)->float:\n",
    "    p = pow(x,y)\n",
    "    return p\n",
    "x,y=2.5,3\n",
    "z = myPower(x,y)\n",
    "print(x,\"**\",y,\"=\",z)"
   ]
  },
  {
   "cell_type": "code",
   "execution_count": 1,
   "metadata": {},
   "outputs": [
    {
     "name": "stdout",
     "output_type": "stream",
     "text": [
      "[-10, -9, -8, -7, -6, -5, -4, -3, -2, -1, 0, 1, 2, 3, 4, 5, 6, 7, 8, 9, 10]\n",
      "[90.0, 77.4, 65.6, 54.6, 44.4, 35.0, 26.4, 1.7320508075688772, 1.4142135623730951, 1.0, 0.0, 1.0, 1.4142135623730951, 1.7320508075688772, 8.0, 11.180339887498949, 14.696938456699069, 18.520259177452132, 22.627416997969522, 27.0, 31.622776601683793]\n"
     ]
    },
    {
     "data": {
      "image/png": "[encoded data removed]",
      "text/plain": [
       "<Figure size 640x480 with 1 Axes>"
      ]
     },
     "metadata": {},
     "output_type": "display_data"
    }
   ],
   "source": [
    "#P.60,Ex2\n",
    "import matplotlib.pyplot as plt\n",
    "def f(x:float)->float:\n",
    "    if x>3:\n",
    "        return(x**1.5)\n",
    "    elif x>=-3:\n",
    "        return((abs(x))**0.5)\n",
    "    elif x<-3:\n",
    "        return((0.4*pow(x,2))-(5*(x)))\n",
    "    return y\n",
    "x_v = [i for i in range(-10,11)]\n",
    "y_v = [f(x) for x in x_v]\n",
    "print(x_v)\n",
    "print(y_v)\n",
    "\n",
    "plt.plot(x_v, y_v, 'r') # 可將 '-' 改為 'r-', ro' 'r--'，試試看\n",
    "#plt.axis([-10, 11, 0, 100]) # 可設定x,y軸的刻度範圍如[1,10] 與 [0,100]\n",
    "plt.xlabel('x-axis')\n",
    "plt.ylabel('y-axis')\n",
    "plt.show()"
   ]
  },
  {
   "cell_type": "code",
   "execution_count": 38,
   "metadata": {},
   "outputs": [
    {
     "name": "stdout",
     "output_type": "stream",
     "text": [
      "GCD_ALL 105\n"
     ]
    }
   ],
   "source": [
    "#P.60 ex.1\n",
    "import math\n",
    "def gcdALL(listData:list)->int:\n",
    "    result = listData[0]\n",
    "    for i in range(1, len(listData)):\n",
    "        result = math.gcd(result,listData[i])\n",
    "    return result\n",
    "        \n",
    "data=[2*3*3*5*7*7,3*5*7*11*13,2*2*3*3*5*5*7*7,100*9*25*49]\n",
    "GCD =gcdALL(data)\n",
    "print(\"GCD_ALL\",GCD)"
   ]
  },
  {
   "cell_type": "code",
   "execution_count": 39,
   "metadata": {},
   "outputs": [
    {
     "name": "stdout",
     "output_type": "stream",
     "text": [
      "17310309456440\n"
     ]
    }
   ],
   "source": [
    "#P.60 ex.3-1\n",
    "import math\n",
    "def Cnk(n:int, k:int) -> int:\n",
    "    if k > n/2:\n",
    "        k = n-k\n",
    "    result = 1\n",
    "    for i in range(k):\n",
    "        result *= (n-i)\n",
    "        result //= (i+1)\n",
    "    return result\n",
    "n, k = map(int, input(\"Cnk(n,k) =\").split())\n",
    "print(Cnk(n,k))"
   ]
  },
  {
   "cell_type": "code",
   "execution_count": 40,
   "metadata": {},
   "outputs": [
    {
     "name": "stdout",
     "output_type": "stream",
     "text": [
      "17310309456440\n"
     ]
    }
   ],
   "source": [
    "#P.60 ex.3-2\n",
    "import math\n",
    "def Cnk(n:int, k:int) -> int:\n",
    "    result = math.factorial(n)//(math.factorial(k)*(math.factorial(n-k)))\n",
    "    return result\n",
    "n, k = map(int, input(\"Cnk(n,k) =\").split())\n",
    "print(Cnk(n,k))"
   ]
  }
 ],
 "metadata": {
  "kernelspec": {
   "display_name": "Python 3",
   "language": "python",
   "name": "python3"
  },
  "language_info": {
   "codemirror_mode": {
    "name": "ipython",
    "version": 3
   },
   "file_extension": ".py",
   "mimetype": "text/x-python",
   "name": "python",
   "nbconvert_exporter": "python",
   "pygments_lexer": "ipython3",
   "version": "3.9.13"
  },
  "orig_nbformat": 4
 },
 "nbformat": 4,
 "nbformat_minor": 2
}
