{
 "cells": [
  {
   "cell_type": "code",
   "execution_count": 1,
   "id": "bd7c6404",
   "metadata": {
    "scrolled": true
   },
   "outputs": [
    {
     "name": "stdout",
     "output_type": "stream",
     "text": [
      "25.93\n"
     ]
    }
   ],
   "source": [
    "#ex1\n",
    "import random\n",
    "import statistics\n",
    "random.seed(111)\n",
    "score=[]\n",
    "total = 0\n",
    "for i in range(50):\n",
    "    score+=[random.randint(0,100)] \n",
    "#print(a)\n",
    "print(f'{statistics.pstdev(score):.2f}')"
   ]
  },
  {
   "cell_type": "code",
   "execution_count": 2,
   "id": "6de9057d",
   "metadata": {},
   "outputs": [
    {
     "name": "stdout",
     "output_type": "stream",
     "text": [
      "[0~9]: 7人\n",
      "[10~19]: 4人\n",
      "[20~29]: 11人\n",
      "[30~39]: 6人\n",
      "[40~49]: 7人\n",
      "[50~59]: 13人\n",
      "[60~69]: 13人\n",
      "[70~79]: 10人\n",
      "[80~89]: 14人\n",
      "[90~99]: 15人\n",
      "[100]: 0人\n"
     ]
    }
   ],
   "source": [
    "#ex2\n",
    "import random\n",
    "random.seed(111)\n",
    "score = [random.randint(1,100) for _ in range(100)]\n",
    "cnt = [0] * 11\n",
    "for x in score:\n",
    "    index = x // 10\n",
    "    if index == 10:\n",
    "        cnt[10] += 1\n",
    "    else:\n",
    "        cnt[index] += 1\n",
    "for i in range(len(cnt)):\n",
    "    if i == 10:\n",
    "        print(\"[{}]: {}人\".format(100, cnt[i]))\n",
    "    else:\n",
    "        start = i * 10\n",
    "        end = start + 9\n",
    "        print(\"[{}~{}]: {}人\".format(start, end, cnt[i]))"
   ]
  },
  {
   "cell_type": "code",
   "execution_count": 3,
   "id": "63d6a58c",
   "metadata": {
    "scrolled": true
   },
   "outputs": [
    {
     "name": "stdout",
     "output_type": "stream",
     "text": [
      "sorted a[] = [12, 22, 28, 37, 43, 57, 85]\n",
      "sorted b[] = [7, 18, 22, 25, 39]\n",
      "merge a[], b[] to c[] = [7, 12, 18, 22, 22, 25, 28, 37, 39, 43, 57, 85]\n"
     ]
    }
   ],
   "source": [
    "#ex3-1\n",
    "a = [28, 85, 22, 37, 43, 57, 12]\n",
    "b = [18, 25, 39, 22, 7]\n",
    "c = []\n",
    "a.sort(); b.sort()\n",
    "i, j = 0, 0\n",
    "while i < len(a) and j < len(b):\n",
    "    if a[i] <= b[j]:\n",
    "        c.append(a[i])\n",
    "        i += 1\n",
    "    else:\n",
    "        c.append(b[j])\n",
    "        j += 1\n",
    "while i < len(a):\n",
    "    c.append(a[i])\n",
    "    i += 1\n",
    "print(\"sorted a[] =\", a)\n",
    "print(\"sorted b[] =\", b)\n",
    "print(\"merge a[], b[] to c[] =\", c)"
   ]
  },
  {
   "cell_type": "code",
   "execution_count": 7,
   "id": "de70a5da",
   "metadata": {},
   "outputs": [
    {
     "name": "stdout",
     "output_type": "stream",
     "text": [
      "[12, 22, 28, 37, 43, 57, 85]\n",
      "[7, 18, 22, 25, 39]\n",
      "[7, 12, 18, 22, 22, 25, 28, 37, 39, 43, 57, 85]\n"
     ]
    }
   ],
   "source": [
    "#ex3-2\n",
    "a = [28, 85, 22, 37, 43, 57, 12]\n",
    "b = [18, 25, 39, 22, 7]\n",
    "a.sort();b.sort()\n",
    "c = []\n",
    "c = a+b\n",
    "c.sort()\n",
    "print(a)\n",
    "print(b)\n",
    "print(c)"
   ]
  }
 ],
 "metadata": {
  "kernelspec": {
   "display_name": "Python 3 (ipykernel)",
   "language": "python",
   "name": "python3"
  },
  "language_info": {
   "codemirror_mode": {
    "name": "ipython",
    "version": 3
   },
   "file_extension": ".py",
   "mimetype": "text/x-python",
   "name": "python",
   "nbconvert_exporter": "python",
   "pygments_lexer": "ipython3",
   "version": "3.9.13"
  }
 },
 "nbformat": 4,
 "nbformat_minor": 5
}
