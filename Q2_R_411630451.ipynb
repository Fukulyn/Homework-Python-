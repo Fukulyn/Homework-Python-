{
 "cells": [
  {
   "cell_type": "code",
   "execution_count": 16,
   "metadata": {},
   "outputs": [
    {
     "name": "stdout",
     "output_type": "stream",
     "text": [
      "score[]=[47, 60, 83, 44, 70, 73, 98, 41, 100, 44, 73, 91, 49, 43, 79, 73, 69, 55, 68, 48, 64, 83, 24, 60, 50, 92, 77, 72, 28, 74, 85, 33, 57, 32, 63, 78, 47, 63, 50, 84, 22, 22, 73, 100, 84, 58, 83, 81, 82, 89]\n",
      "std of score[]=20.88\n",
      "\n",
      "cnt[]=[0, 0, 4, 2, 8, 5, 7, 10, 9, 3, 2]\n",
      "[0-9] (0)\n",
      "[10-19] (0)\n",
      "[20-29] * * * * (4)\n",
      "[30-39] * * (2)\n",
      "[40-49] * * * * * * * * (8)\n",
      "[50-59] * * * * * (5)\n",
      "[60-69] * * * * * * * (7)\n",
      "[70-79] * * * * * * * * * * (10)\n",
      "[80-89] * * * * * * * * * (9)\n",
      "[90-99] * * * (3)\n",
      "[100] * * (2)\n"
     ]
    }
   ],
   "source": [
    "import random\n",
    "random.seed(111)\n",
    "score = []\n",
    "studNo = 50\n",
    "\n",
    "#以亂數將50個在[20,100]中的分數填入score[]中並印出\n",
    "for i in range(studNo):\n",
    "    s=random.randint(20,100)\n",
    "    score.append(s)\n",
    "print(f'score[]={score}')\n",
    "\n",
    "#計算score[]的標準差\n",
    "#本體不可使用內建函數std(),但可使用sum(),len()\n",
    "avg=sum(score)/len(score)\n",
    "sum1=0\n",
    "for x in score:\n",
    "    sum1+=(x-avg)**2\n",
    "std = (sum1/len(score))**0.5\n",
    "print(f'std of score[]={std:.2f}')\n",
    "print()\n",
    "\n",
    "#統計並印出各分數區隔的人數\n",
    "#以cnt[]來儲存，cnt[0]:0-9分，cnt[1]:10-19分.....\n",
    "cnt=[0 for i in range(11)]\n",
    "for x in score:\n",
    "    cnt[x//10]+=1\n",
    "print(f'cnt[]={cnt}')\n",
    "\n",
    "#根據cnt[]印出量號長條圖\n",
    "for i in range(len(cnt)):\n",
    "    if i==10:\n",
    "        print(f'[{i*10}]',end=\" \")\n",
    "    else:\n",
    "        print(f'[{i*10}-{i*10+9}]',end=\" \")\n",
    "    for j in range(cnt[i]):\n",
    "        print('*',end=\" \")\n",
    "    print(f'({cnt[i]})')"
   ]
  },
  {
   "cell_type": "code",
   "execution_count": 25,
   "metadata": {},
   "outputs": [
    {
     "name": "stdout",
     "output_type": "stream",
     "text": [
      "[-10, -9, -8, -7, -6, -5, -4, -3, -2, -1, 0, 1, 2, 3, 4, 5, 6, 7, 8, 9, 10]\n",
      "[-10, -8, -6, -4, -2, 0, 2, 4, 2, 0, -2, -4, -6, -4.196152422706632, -5.0, -5.708203932499369, -6.348469228349534, -6.937253933193772, -7.485281374238571, -8.0, -8.486832980505138]\n"
     ]
    },
    {
     "data": {
      "image/png": "[encoded data removed]",
      "text/plain": [
       "<Figure size 640x480 with 1 Axes>"
      ]
     },
     "metadata": {},
     "output_type": "display_data"
    }
   ],
   "source": [
    "import math\n",
    "import matplotlib.pyplot as plt\n",
    "\n",
    "def f(x):\n",
    "    if x<-3:\n",
    "        return 2*x+10\n",
    "    elif x<3:\n",
    "        return -2*x-2\n",
    "    else:\n",
    "        return -3*math.sqrt(x)+1\n",
    "\n",
    "x=[i for i in range(-10,11)]\n",
    "y=[]\n",
    "print(x)\n",
    "for n in x:\n",
    "    y.append(f(n))\n",
    "print(y)\n",
    "\n",
    "plt.plot(x[0:7],y[0:7],'r--')\n",
    "plt.plot(x[7:13],y[7:13],'bo')\n",
    "plt.plot(x[13:],y[13:],'g^')\n",
    "plt.xlabel('x-axis')\n",
    "plt.ylabel('y-axis')\n",
    "plt.show()"
   ]
  },
  {
   "cell_type": "code",
   "execution_count": 1,
   "metadata": {},
   "outputs": [
    {
     "name": "stdout",
     "output_type": "stream",
     "text": [
      "rowAvg[]=[2.5, 6.0, 8.5, 12.0]\n",
      "[2, 3, 4, 5]\n",
      "mSort[]=[[8, 9], [5, 6, 7], [1, 2, 3, 4], [10, 11, 12, 13, 14]]\n",
      "\n",
      "##########@@@@@@@@@@##########@@@@@@@@@@\n",
      "##########@@@@@@@@@@##########@@@@@@@@@@\n",
      "##########@@@@@@@@@@##########@@@@@@@@@@\n",
      "##########@@@@@@@@@@##########@@@@@@@@@@\n",
      "##########@@@@@@@@@@##########@@@@@@@@@@\n",
      "##########@@@@@@@@@@##########@@@@@@@@@@\n"
     ]
    }
   ],
   "source": [
    "m = [[1,2,3,4],[5,6,7],[8,9],[10,11,12,13,14]]\n",
    "\n",
    "#計算m[][]之各列平均，並存於一串列後印出\n",
    "avg=[]\n",
    "for i in m:\n",
    "    avg.append(sum(i)/len(i))\n",
    "print(f'rowAvg[]={avg}')\n",
    "\n",
    "#依照m[][]中串列長度，由短至長將其放入，另一個二維串列mSort[][]中並列印\n",
    "lenList=[len(i) for i in m]\n",
    "lenSort = sorted(lenList)\n",
    "print(lenSort)\n",
    "mSort = []\n",
    "for length in lenSort:\n",
    "    for i in m:\n",
    "        if len(i)==length:\n",
    "            mSort.append(i)\n",
    "print(f'mSort[]={mSort}')\n",
    "print()\n",
    "\n",
    "#已知有如下6x40二維陣列，直接修改m2內容，使其產生規定輸出。\n",
    "#[提示]: 每過10個欄位，切換一次符號('#'或'@')\n",
    "#[注意]:請用程式達成功能，不可用暴力法填值\n",
    "m2=[[\"#\" if (c//10%2==0) else \"@\" for c in range(40)] for r in range(6)]\n",
    "for i in range((len(m2))):\n",
    "    for j in range(len(m2[i])):\n",
    "        print(m2[i][j],end=\"\")\n",
    "    print()"
   ]
  }
 ],
 "metadata": {
  "kernelspec": {
   "display_name": "base",
   "language": "python",
   "name": "python3"
  },
  "language_info": {
   "codemirror_mode": {
    "name": "ipython",
    "version": 3
   },
   "file_extension": ".py",
   "mimetype": "text/x-python",
   "name": "python",
   "nbconvert_exporter": "python",
   "pygments_lexer": "ipython3",
   "version": "3.9.13"
  },
  "orig_nbformat": 4
 },
 "nbformat": 4,
 "nbformat_minor": 2
}
